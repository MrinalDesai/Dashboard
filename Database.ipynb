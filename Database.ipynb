{
 "cells": [
  {
   "cell_type": "code",
   "execution_count": 1,
   "id": "8a801a96-e83f-4d4f-9752-c2516258d79e",
   "metadata": {},
   "outputs": [],
   "source": [
    "import pandas as pd"
   ]
  },
  {
   "cell_type": "code",
   "execution_count": 3,
   "id": "f266b21c-bd05-4dca-ae15-721ca22cd361",
   "metadata": {},
   "outputs": [],
   "source": [
    "df_stats = pd.read_csv(f'live_stats/Database.csv')"
   ]
  },
  {
   "cell_type": "code",
   "execution_count": 5,
   "id": "7d7a98cf-5ff6-4819-a65f-81d4ca2c5da7",
   "metadata": {},
   "outputs": [
    {
     "data": {
      "text/plain": [
       "array(['Crude Birth Rate - India', 'Total Population by Sex - India',\n",
       "       'Crude Death Rate - India', ...,\n",
       "       'Total Enrolment in Other Universities - Diploma Courses',\n",
       "       'Number of Universities in India - Central University',\n",
       "       'Number of Universities in India - Deemed University - Govt Aided'],\n",
       "      dtype=object)"
      ]
     },
     "execution_count": 5,
     "metadata": {},
     "output_type": "execute_result"
    }
   ],
   "source": [
    "df_stats.TITLE.unique()"
   ]
  },
  {
   "cell_type": "code",
   "execution_count": 6,
   "id": "1c653833-71ff-44df-998c-c7722bbcaaf5",
   "metadata": {},
   "outputs": [
    {
     "data": {
      "text/plain": [
       "Index(['TITLE', 'IDENTIFIER'], dtype='object')"
      ]
     },
     "execution_count": 6,
     "metadata": {},
     "output_type": "execute_result"
    }
   ],
   "source": [
    "df_stats.columns"
   ]
  },
  {
   "cell_type": "code",
   "execution_count": 11,
   "id": "633fccec-18b6-4b12-8085-d94c410c194d",
   "metadata": {},
   "outputs": [
    {
     "data": {
      "text/plain": [
       "'DMCBRINABSGLA'"
      ]
     },
     "execution_count": 11,
     "metadata": {},
     "output_type": "execute_result"
    }
   ],
   "source": [
    "df_stats['IDENTIFIER'][df_stats['TITLE']=='Crude Birth Rate - India'].iloc[0]"
   ]
  },
  {
   "cell_type": "code",
   "execution_count": 12,
   "id": "4de9bcb1-9d97-4375-8da8-405b3c6b6e2c",
   "metadata": {},
   "outputs": [],
   "source": [
    "query = '''\n",
    "SELECT * from HACKATHON.IDH_DATA\n",
    "WHERE\n",
    "    Identifier in ('SSEDUNIDUA11A') and Date between '2000-03-31' and  '2024-03-31';\n",
    "'''"
   ]
  },
  {
   "cell_type": "code",
   "execution_count": 16,
   "id": "a46fad34-d529-4c97-af22-4f4252894bda",
   "metadata": {},
   "outputs": [
    {
     "name": "stdout",
     "output_type": "stream",
     "text": [
      "\n",
      "SELECT * from HACKATHON.IDH_DATA\n",
      "WHERE\n",
      "    Identifier in ('SSEDUNIDUA11A') and Date between '2000-03-31' and  '2024-03-31';\n",
      "\n"
     ]
    }
   ],
   "source": [
    "print(query)"
   ]
  },
  {
   "cell_type": "code",
   "execution_count": null,
   "id": "a183bbb7-2321-41d1-aa22-14a1b44c7dd2",
   "metadata": {},
   "outputs": [],
   "source": [
    "SELECT * from HACKATHON.IDH_DATA WHERE Identifier in ('SSEDUNIDUA11A');"
   ]
  },
  {
   "cell_type": "code",
   "execution_count": 17,
   "id": "dc686faa-88a6-496d-a618-be88374f2b30",
   "metadata": {},
   "outputs": [
    {
     "data": {
      "text/plain": [
       "'SELECT * from HACKATHON.IDH_DATA WHERE Identifier in (DMCBRINABSGLA);'"
      ]
     },
     "execution_count": 17,
     "metadata": {},
     "output_type": "execute_result"
    }
   ],
   "source": [
    "'SELECT * from HACKATHON.IDH_DATA WHERE Identifier in ('+df_stats['IDENTIFIER'][df_stats['TITLE']=='Crude Birth Rate - India'].iloc[0]+');'"
   ]
  },
  {
   "cell_type": "code",
   "execution_count": null,
   "id": "3be92e68-98f6-49f4-983f-8b8871ddbaff",
   "metadata": {},
   "outputs": [],
   "source": []
  }
 ],
 "metadata": {
  "kernelspec": {
   "display_name": "Python 3 (ipykernel)",
   "language": "python",
   "name": "python3"
  },
  "language_info": {
   "codemirror_mode": {
    "name": "ipython",
    "version": 3
   },
   "file_extension": ".py",
   "mimetype": "text/x-python",
   "name": "python",
   "nbconvert_exporter": "python",
   "pygments_lexer": "ipython3",
   "version": "3.12.0"
  }
 },
 "nbformat": 4,
 "nbformat_minor": 5
}
