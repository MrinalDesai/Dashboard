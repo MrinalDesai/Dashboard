{
 "cells": [
  {
   "cell_type": "code",
   "execution_count": 56,
   "id": "f6953b13-ef36-4377-8d16-2fb4734df4b4",
   "metadata": {},
   "outputs": [],
   "source": [
    "import pandas as pd\n",
    "import plotly.express as px"
   ]
  },
  {
   "cell_type": "code",
   "execution_count": 94,
   "id": "0b98fae7-c73d-44df-89d1-bbf8bba6e109",
   "metadata": {},
   "outputs": [
    {
     "data": {
      "text/html": [
       "        <script type=\"text/javascript\">\n",
       "        window.PlotlyConfig = {MathJaxConfig: 'local'};\n",
       "        if (window.MathJax && window.MathJax.Hub && window.MathJax.Hub.Config) {window.MathJax.Hub.Config({SVG: {font: \"STIX-Web\"}});}\n",
       "        if (typeof require !== 'undefined') {\n",
       "        require.undef(\"plotly\");\n",
       "        requirejs.config({\n",
       "            paths: {\n",
       "                'plotly': ['https://cdn.plot.ly/plotly-2.35.0.min']\n",
       "            }\n",
       "        });\n",
       "        require(['plotly'], function(Plotly) {\n",
       "            window._Plotly = Plotly;\n",
       "        });\n",
       "        }\n",
       "        </script>\n",
       "        "
      ]
     },
     "metadata": {},
     "output_type": "display_data"
    }
   ],
   "source": [
    "import chart_studio.plotly as py\n",
    "import plotly.graph_objs as go\n",
    "from plotly.offline import init_notebook_mode, iplot\n",
    "import plotly.offline as po\n",
    "init_notebook_mode(connected=True)  "
   ]
  },
  {
   "cell_type": "code",
   "execution_count": 58,
   "id": "7dfbaac3-56e2-43f1-b3ac-24d42ad4a925",
   "metadata": {},
   "outputs": [
    {
     "data": {
      "text/html": [
       "<div>\n",
       "<style scoped>\n",
       "    .dataframe tbody tr th:only-of-type {\n",
       "        vertical-align: middle;\n",
       "    }\n",
       "\n",
       "    .dataframe tbody tr th {\n",
       "        vertical-align: top;\n",
       "    }\n",
       "\n",
       "    .dataframe thead th {\n",
       "        text-align: right;\n",
       "    }\n",
       "</style>\n",
       "<table border=\"1\" class=\"dataframe\">\n",
       "  <thead>\n",
       "    <tr style=\"text-align: right;\">\n",
       "      <th></th>\n",
       "      <th>States/Union Territories</th>\n",
       "      <th>Higher Secondary (11-12)</th>\n",
       "      <th>Secondary (9-10)</th>\n",
       "      <th>Upper Primary (6-8)</th>\n",
       "      <th>Primary (1 to 5)</th>\n",
       "      <th>Year</th>\n",
       "    </tr>\n",
       "  </thead>\n",
       "  <tbody>\n",
       "    <tr>\n",
       "      <th>0</th>\n",
       "      <td>Andhra Pradesh</td>\n",
       "      <td>34.0</td>\n",
       "      <td>32.0</td>\n",
       "      <td>26.0</td>\n",
       "      <td>31.0</td>\n",
       "      <td>2008-09</td>\n",
       "    </tr>\n",
       "    <tr>\n",
       "      <th>1</th>\n",
       "      <td>Arunachal Pradesh</td>\n",
       "      <td>29.0</td>\n",
       "      <td>23.0</td>\n",
       "      <td>25.0</td>\n",
       "      <td>22.0</td>\n",
       "      <td>2008-09</td>\n",
       "    </tr>\n",
       "    <tr>\n",
       "      <th>2</th>\n",
       "      <td>Assam</td>\n",
       "      <td>27.0</td>\n",
       "      <td>20.0</td>\n",
       "      <td>20.0</td>\n",
       "      <td>30.0</td>\n",
       "      <td>2008-09</td>\n",
       "    </tr>\n",
       "    <tr>\n",
       "      <th>3</th>\n",
       "      <td>Bihar</td>\n",
       "      <td>46.0</td>\n",
       "      <td>56.0</td>\n",
       "      <td>51.0</td>\n",
       "      <td>72.0</td>\n",
       "      <td>2008-09</td>\n",
       "    </tr>\n",
       "    <tr>\n",
       "      <th>4</th>\n",
       "      <td>Chhattisgarh</td>\n",
       "      <td>28.0</td>\n",
       "      <td>27.0</td>\n",
       "      <td>30.0</td>\n",
       "      <td>38.0</td>\n",
       "      <td>2008-09</td>\n",
       "    </tr>\n",
       "  </tbody>\n",
       "</table>\n",
       "</div>"
      ],
      "text/plain": [
       "  States/Union Territories  Higher Secondary (11-12)  Secondary (9-10)  \\\n",
       "0           Andhra Pradesh                      34.0              32.0   \n",
       "1        Arunachal Pradesh                      29.0              23.0   \n",
       "2                    Assam                      27.0              20.0   \n",
       "3                    Bihar                      46.0              56.0   \n",
       "4             Chhattisgarh                      28.0              27.0   \n",
       "\n",
       "   Upper Primary (6-8)   Primary (1 to 5)     Year  \n",
       "0                 26.0               31.0  2008-09  \n",
       "1                 25.0               22.0  2008-09  \n",
       "2                 20.0               30.0  2008-09  \n",
       "3                 51.0               72.0  2008-09  \n",
       "4                 30.0               38.0  2008-09  "
      ]
     },
     "execution_count": 58,
     "metadata": {},
     "output_type": "execute_result"
    }
   ],
   "source": [
    "\n",
    "\n",
    "\n",
    "df = pd.read_csv('State UT and School-wise Pupil teacher ratio (PTR) for 2008-2022.csv')\n",
    "df.head()"
   ]
  },
  {
   "cell_type": "code",
   "execution_count": 59,
   "id": "853ac226-0416-4520-a800-895846994bdb",
   "metadata": {},
   "outputs": [
    {
     "data": {
      "text/plain": [
       "Index(['States/Union Territories', 'Higher Secondary (11-12)',\n",
       "       'Secondary (9-10)', 'Upper Primary (6-8)', ' Primary (1 to 5)', 'Year'],\n",
       "      dtype='object')"
      ]
     },
     "execution_count": 59,
     "metadata": {},
     "output_type": "execute_result"
    }
   ],
   "source": [
    "df.columns"
   ]
  },
  {
   "cell_type": "code",
   "execution_count": 60,
   "id": "e5bff00e-b8c5-4015-864a-b19000dcd1bc",
   "metadata": {},
   "outputs": [
    {
     "name": "stdout",
     "output_type": "stream",
     "text": [
      "<class 'pandas.core.frame.DataFrame'>\n",
      "RangeIndex: 182 entries, 0 to 181\n",
      "Data columns (total 6 columns):\n",
      " #   Column                    Non-Null Count  Dtype  \n",
      "---  ------                    --------------  -----  \n",
      " 0   States/Union Territories  182 non-null    object \n",
      " 1   Higher Secondary (11-12)  179 non-null    float64\n",
      " 2   Secondary (9-10)          178 non-null    float64\n",
      " 3   Upper Primary (6-8)       179 non-null    float64\n",
      " 4    Primary (1 to 5)         175 non-null    float64\n",
      " 5   Year                      182 non-null    object \n",
      "dtypes: float64(4), object(2)\n",
      "memory usage: 8.7+ KB\n"
     ]
    }
   ],
   "source": [
    "df.info()"
   ]
  },
  {
   "cell_type": "code",
   "execution_count": 61,
   "id": "c8fa63e4-c285-4245-8e34-cfd4dff2b629",
   "metadata": {},
   "outputs": [
    {
     "data": {
      "text/html": [
       "<div>\n",
       "<style scoped>\n",
       "    .dataframe tbody tr th:only-of-type {\n",
       "        vertical-align: middle;\n",
       "    }\n",
       "\n",
       "    .dataframe tbody tr th {\n",
       "        vertical-align: top;\n",
       "    }\n",
       "\n",
       "    .dataframe thead th {\n",
       "        text-align: right;\n",
       "    }\n",
       "</style>\n",
       "<table border=\"1\" class=\"dataframe\">\n",
       "  <thead>\n",
       "    <tr style=\"text-align: right;\">\n",
       "      <th></th>\n",
       "      <th>States/Union Territories</th>\n",
       "      <th>Higher Secondary (11-12)</th>\n",
       "      <th>Secondary (9-10)</th>\n",
       "      <th>Upper Primary (6-8)</th>\n",
       "      <th>Primary (1 to 5)</th>\n",
       "      <th>Year</th>\n",
       "    </tr>\n",
       "  </thead>\n",
       "  <tbody>\n",
       "    <tr>\n",
       "      <th>6</th>\n",
       "      <td>Gujarat</td>\n",
       "      <td>39.0</td>\n",
       "      <td>31.0</td>\n",
       "      <td>35.0</td>\n",
       "      <td>NaN</td>\n",
       "      <td>2008-09</td>\n",
       "    </tr>\n",
       "    <tr>\n",
       "      <th>42</th>\n",
       "      <td>Gujarat</td>\n",
       "      <td>41.0</td>\n",
       "      <td>29.0</td>\n",
       "      <td>35.0</td>\n",
       "      <td>NaN</td>\n",
       "      <td>2009-10</td>\n",
       "    </tr>\n",
       "    <tr>\n",
       "      <th>78</th>\n",
       "      <td>Gujarat</td>\n",
       "      <td>52.0</td>\n",
       "      <td>33.0</td>\n",
       "      <td>35.0</td>\n",
       "      <td>NaN</td>\n",
       "      <td>2010-11</td>\n",
       "    </tr>\n",
       "    <tr>\n",
       "      <th>114</th>\n",
       "      <td>Gujarat</td>\n",
       "      <td>33.0</td>\n",
       "      <td>45.0</td>\n",
       "      <td>36.0</td>\n",
       "      <td>NaN</td>\n",
       "      <td>2011-2012</td>\n",
       "    </tr>\n",
       "    <tr>\n",
       "      <th>155</th>\n",
       "      <td>Gujarat</td>\n",
       "      <td>28.0</td>\n",
       "      <td>29.0</td>\n",
       "      <td>25.0</td>\n",
       "      <td>30.0</td>\n",
       "      <td>2021-2022</td>\n",
       "    </tr>\n",
       "  </tbody>\n",
       "</table>\n",
       "</div>"
      ],
      "text/plain": [
       "    States/Union Territories  Higher Secondary (11-12)  Secondary (9-10)  \\\n",
       "6                    Gujarat                      39.0              31.0   \n",
       "42                   Gujarat                      41.0              29.0   \n",
       "78                   Gujarat                      52.0              33.0   \n",
       "114                  Gujarat                      33.0              45.0   \n",
       "155                  Gujarat                      28.0              29.0   \n",
       "\n",
       "     Upper Primary (6-8)   Primary (1 to 5)       Year  \n",
       "6                   35.0                NaN    2008-09  \n",
       "42                  35.0                NaN    2009-10  \n",
       "78                  35.0                NaN    2010-11  \n",
       "114                 36.0                NaN  2011-2012  \n",
       "155                 25.0               30.0  2021-2022  "
      ]
     },
     "execution_count": 61,
     "metadata": {},
     "output_type": "execute_result"
    }
   ],
   "source": [
    "df[df['States/Union Territories']=='Gujarat']"
   ]
  },
  {
   "cell_type": "code",
   "execution_count": 62,
   "id": "d9eb3edb-d2ca-4c1c-951d-eb3b017dd81a",
   "metadata": {},
   "outputs": [],
   "source": [
    "# df[\"Primary (1 to 5)\"] = df[[' Primary (1 to 5)',\"States/Union Territories\"]].groupby(\"States/Union Territories\").transform(lambda x: x.fillna(x.mean()))"
   ]
  },
  {
   "cell_type": "code",
   "execution_count": 63,
   "id": "1272f24c-780e-4ad9-a5d4-ecdfff20333a",
   "metadata": {},
   "outputs": [
    {
     "data": {
      "text/plain": [
       "Index(['States/Union Territories', 'Higher Secondary (11-12)',\n",
       "       'Secondary (9-10)', 'Upper Primary (6-8)', ' Primary (1 to 5)', 'Year'],\n",
       "      dtype='object')"
      ]
     },
     "execution_count": 63,
     "metadata": {},
     "output_type": "execute_result"
    }
   ],
   "source": [
    "df.columns"
   ]
  },
  {
   "cell_type": "code",
   "execution_count": 64,
   "id": "3691c3d7-3118-452e-ab43-7f419a9c14aa",
   "metadata": {},
   "outputs": [
    {
     "data": {
      "text/html": [
       "<div>\n",
       "<style scoped>\n",
       "    .dataframe tbody tr th:only-of-type {\n",
       "        vertical-align: middle;\n",
       "    }\n",
       "\n",
       "    .dataframe tbody tr th {\n",
       "        vertical-align: top;\n",
       "    }\n",
       "\n",
       "    .dataframe thead th {\n",
       "        text-align: right;\n",
       "    }\n",
       "</style>\n",
       "<table border=\"1\" class=\"dataframe\">\n",
       "  <thead>\n",
       "    <tr style=\"text-align: right;\">\n",
       "      <th></th>\n",
       "      <th>States/Union Territories</th>\n",
       "      <th>Higher Secondary (11-12)</th>\n",
       "      <th>Secondary (9-10)</th>\n",
       "      <th>Upper Primary (6-8)</th>\n",
       "      <th>Primary (1 to 5)</th>\n",
       "      <th>Year</th>\n",
       "    </tr>\n",
       "  </thead>\n",
       "  <tbody>\n",
       "    <tr>\n",
       "      <th>6</th>\n",
       "      <td>Gujarat</td>\n",
       "      <td>39.0</td>\n",
       "      <td>31.0</td>\n",
       "      <td>35.0</td>\n",
       "      <td>NaN</td>\n",
       "      <td>2008-09</td>\n",
       "    </tr>\n",
       "    <tr>\n",
       "      <th>42</th>\n",
       "      <td>Gujarat</td>\n",
       "      <td>41.0</td>\n",
       "      <td>29.0</td>\n",
       "      <td>35.0</td>\n",
       "      <td>NaN</td>\n",
       "      <td>2009-10</td>\n",
       "    </tr>\n",
       "    <tr>\n",
       "      <th>78</th>\n",
       "      <td>Gujarat</td>\n",
       "      <td>52.0</td>\n",
       "      <td>33.0</td>\n",
       "      <td>35.0</td>\n",
       "      <td>NaN</td>\n",
       "      <td>2010-11</td>\n",
       "    </tr>\n",
       "    <tr>\n",
       "      <th>114</th>\n",
       "      <td>Gujarat</td>\n",
       "      <td>33.0</td>\n",
       "      <td>45.0</td>\n",
       "      <td>36.0</td>\n",
       "      <td>NaN</td>\n",
       "      <td>2011-2012</td>\n",
       "    </tr>\n",
       "    <tr>\n",
       "      <th>155</th>\n",
       "      <td>Gujarat</td>\n",
       "      <td>28.0</td>\n",
       "      <td>29.0</td>\n",
       "      <td>25.0</td>\n",
       "      <td>30.0</td>\n",
       "      <td>2021-2022</td>\n",
       "    </tr>\n",
       "  </tbody>\n",
       "</table>\n",
       "</div>"
      ],
      "text/plain": [
       "    States/Union Territories  Higher Secondary (11-12)  Secondary (9-10)  \\\n",
       "6                    Gujarat                      39.0              31.0   \n",
       "42                   Gujarat                      41.0              29.0   \n",
       "78                   Gujarat                      52.0              33.0   \n",
       "114                  Gujarat                      33.0              45.0   \n",
       "155                  Gujarat                      28.0              29.0   \n",
       "\n",
       "     Upper Primary (6-8)   Primary (1 to 5)       Year  \n",
       "6                   35.0                NaN    2008-09  \n",
       "42                  35.0                NaN    2009-10  \n",
       "78                  35.0                NaN    2010-11  \n",
       "114                 36.0                NaN  2011-2012  \n",
       "155                 25.0               30.0  2021-2022  "
      ]
     },
     "execution_count": 64,
     "metadata": {},
     "output_type": "execute_result"
    }
   ],
   "source": [
    "df[df['States/Union Territories']=='Gujarat']"
   ]
  },
  {
   "cell_type": "code",
   "execution_count": 65,
   "id": "b9bd75c8-6721-410f-bcd5-a7c9bed83a59",
   "metadata": {},
   "outputs": [],
   "source": [
    "df[' Primary (1 to 5)'] = df[' Primary (1 to 5)'].fillna(df.groupby('States/Union Territories')[' Primary (1 to 5)'].transform('mean'))\n",
    "df['Higher Secondary (11-12)'] = df['Higher Secondary (11-12)'].fillna(df.groupby('States/Union Territories')['Higher Secondary (11-12)'].transform('mean'))\n",
    "df['Secondary (9-10)'] = df['Secondary (9-10)'].fillna(df.groupby('States/Union Territories')['Secondary (9-10)'].transform('mean'))\n",
    "df['Upper Primary (6-8)'] = df['Upper Primary (6-8)'].fillna(df.groupby('States/Union Territories')['Upper Primary (6-8)'].transform('mean'))"
   ]
  },
  {
   "cell_type": "code",
   "execution_count": 66,
   "id": "4a2aeb4f-8858-4ad4-bdbe-1f1352029efa",
   "metadata": {},
   "outputs": [
    {
     "name": "stdout",
     "output_type": "stream",
     "text": [
      "<class 'pandas.core.frame.DataFrame'>\n",
      "RangeIndex: 182 entries, 0 to 181\n",
      "Data columns (total 6 columns):\n",
      " #   Column                    Non-Null Count  Dtype  \n",
      "---  ------                    --------------  -----  \n",
      " 0   States/Union Territories  182 non-null    object \n",
      " 1   Higher Secondary (11-12)  182 non-null    float64\n",
      " 2   Secondary (9-10)          182 non-null    float64\n",
      " 3   Upper Primary (6-8)       182 non-null    float64\n",
      " 4    Primary (1 to 5)         182 non-null    float64\n",
      " 5   Year                      182 non-null    object \n",
      "dtypes: float64(4), object(2)\n",
      "memory usage: 8.7+ KB\n"
     ]
    }
   ],
   "source": [
    "df.info()"
   ]
  },
  {
   "cell_type": "code",
   "execution_count": 67,
   "id": "c266234e-5975-4bc6-86e9-fe87b17b2742",
   "metadata": {},
   "outputs": [
    {
     "data": {
      "text/html": [
       "<div>\n",
       "<style scoped>\n",
       "    .dataframe tbody tr th:only-of-type {\n",
       "        vertical-align: middle;\n",
       "    }\n",
       "\n",
       "    .dataframe tbody tr th {\n",
       "        vertical-align: top;\n",
       "    }\n",
       "\n",
       "    .dataframe thead th {\n",
       "        text-align: right;\n",
       "    }\n",
       "</style>\n",
       "<table border=\"1\" class=\"dataframe\">\n",
       "  <thead>\n",
       "    <tr style=\"text-align: right;\">\n",
       "      <th></th>\n",
       "      <th>States/Union Territories</th>\n",
       "      <th>Higher Secondary (11-12)</th>\n",
       "      <th>Secondary (9-10)</th>\n",
       "      <th>Upper Primary (6-8)</th>\n",
       "      <th>Primary (1 to 5)</th>\n",
       "      <th>Year</th>\n",
       "    </tr>\n",
       "  </thead>\n",
       "  <tbody>\n",
       "    <tr>\n",
       "      <th>0</th>\n",
       "      <td>Andhra Pradesh</td>\n",
       "      <td>34.0</td>\n",
       "      <td>32.0</td>\n",
       "      <td>26.0</td>\n",
       "      <td>31.0</td>\n",
       "      <td>2008-09</td>\n",
       "    </tr>\n",
       "    <tr>\n",
       "      <th>1</th>\n",
       "      <td>Arunachal Pradesh</td>\n",
       "      <td>29.0</td>\n",
       "      <td>23.0</td>\n",
       "      <td>25.0</td>\n",
       "      <td>22.0</td>\n",
       "      <td>2008-09</td>\n",
       "    </tr>\n",
       "    <tr>\n",
       "      <th>2</th>\n",
       "      <td>Assam</td>\n",
       "      <td>27.0</td>\n",
       "      <td>20.0</td>\n",
       "      <td>20.0</td>\n",
       "      <td>30.0</td>\n",
       "      <td>2008-09</td>\n",
       "    </tr>\n",
       "    <tr>\n",
       "      <th>3</th>\n",
       "      <td>Bihar</td>\n",
       "      <td>46.0</td>\n",
       "      <td>56.0</td>\n",
       "      <td>51.0</td>\n",
       "      <td>72.0</td>\n",
       "      <td>2008-09</td>\n",
       "    </tr>\n",
       "    <tr>\n",
       "      <th>4</th>\n",
       "      <td>Chhattisgarh</td>\n",
       "      <td>28.0</td>\n",
       "      <td>27.0</td>\n",
       "      <td>30.0</td>\n",
       "      <td>38.0</td>\n",
       "      <td>2008-09</td>\n",
       "    </tr>\n",
       "    <tr>\n",
       "      <th>...</th>\n",
       "      <td>...</td>\n",
       "      <td>...</td>\n",
       "      <td>...</td>\n",
       "      <td>...</td>\n",
       "      <td>...</td>\n",
       "      <td>...</td>\n",
       "    </tr>\n",
       "    <tr>\n",
       "      <th>177</th>\n",
       "      <td>Tripura</td>\n",
       "      <td>15.0</td>\n",
       "      <td>14.0</td>\n",
       "      <td>20.0</td>\n",
       "      <td>18.0</td>\n",
       "      <td>2021-2022</td>\n",
       "    </tr>\n",
       "    <tr>\n",
       "      <th>178</th>\n",
       "      <td>Uttar Pradesh</td>\n",
       "      <td>39.0</td>\n",
       "      <td>27.0</td>\n",
       "      <td>25.0</td>\n",
       "      <td>28.0</td>\n",
       "      <td>2021-2022</td>\n",
       "    </tr>\n",
       "    <tr>\n",
       "      <th>179</th>\n",
       "      <td>Uttarakhand</td>\n",
       "      <td>17.0</td>\n",
       "      <td>11.0</td>\n",
       "      <td>16.0</td>\n",
       "      <td>19.0</td>\n",
       "      <td>2021-2022</td>\n",
       "    </tr>\n",
       "    <tr>\n",
       "      <th>180</th>\n",
       "      <td>West Bengal</td>\n",
       "      <td>28.0</td>\n",
       "      <td>17.0</td>\n",
       "      <td>28.0</td>\n",
       "      <td>27.0</td>\n",
       "      <td>2021-2022</td>\n",
       "    </tr>\n",
       "    <tr>\n",
       "      <th>181</th>\n",
       "      <td>INDIA</td>\n",
       "      <td>27.0</td>\n",
       "      <td>18.0</td>\n",
       "      <td>19.0</td>\n",
       "      <td>26.0</td>\n",
       "      <td>2021-2022</td>\n",
       "    </tr>\n",
       "  </tbody>\n",
       "</table>\n",
       "<p>182 rows × 6 columns</p>\n",
       "</div>"
      ],
      "text/plain": [
       "    States/Union Territories  Higher Secondary (11-12)  Secondary (9-10)  \\\n",
       "0             Andhra Pradesh                      34.0              32.0   \n",
       "1          Arunachal Pradesh                      29.0              23.0   \n",
       "2                      Assam                      27.0              20.0   \n",
       "3                      Bihar                      46.0              56.0   \n",
       "4               Chhattisgarh                      28.0              27.0   \n",
       "..                       ...                       ...               ...   \n",
       "177                  Tripura                      15.0              14.0   \n",
       "178            Uttar Pradesh                      39.0              27.0   \n",
       "179              Uttarakhand                      17.0              11.0   \n",
       "180              West Bengal                      28.0              17.0   \n",
       "181                    INDIA                      27.0              18.0   \n",
       "\n",
       "     Upper Primary (6-8)   Primary (1 to 5)       Year  \n",
       "0                   26.0               31.0    2008-09  \n",
       "1                   25.0               22.0    2008-09  \n",
       "2                   20.0               30.0    2008-09  \n",
       "3                   51.0               72.0    2008-09  \n",
       "4                   30.0               38.0    2008-09  \n",
       "..                   ...                ...        ...  \n",
       "177                 20.0               18.0  2021-2022  \n",
       "178                 25.0               28.0  2021-2022  \n",
       "179                 16.0               19.0  2021-2022  \n",
       "180                 28.0               27.0  2021-2022  \n",
       "181                 19.0               26.0  2021-2022  \n",
       "\n",
       "[182 rows x 6 columns]"
      ]
     },
     "execution_count": 67,
     "metadata": {},
     "output_type": "execute_result"
    }
   ],
   "source": [
    "df"
   ]
  },
  {
   "cell_type": "code",
   "execution_count": 68,
   "id": "a8e80cde-b69f-4953-a941-fafec8f99779",
   "metadata": {},
   "outputs": [
    {
     "data": {
      "text/plain": [
       "['Andhra Pradesh',\n",
       " 'Arunachal Pradesh',\n",
       " 'Assam',\n",
       " 'Bihar',\n",
       " 'Chhattisgarh',\n",
       " 'Goa',\n",
       " 'Gujarat',\n",
       " 'Haryana',\n",
       " 'Himachal Pradesh',\n",
       " 'Jammu and Kashmir',\n",
       " 'Jharkhand',\n",
       " 'Karnataka',\n",
       " 'Kerala',\n",
       " 'Madhya Pradesh',\n",
       " 'Maharashtra',\n",
       " 'Manipur',\n",
       " 'Meghalaya',\n",
       " 'Mizoram',\n",
       " 'Nagaland',\n",
       " 'Odisha',\n",
       " 'Punjab',\n",
       " 'Rajasthan',\n",
       " 'Sikkim',\n",
       " 'Tamil Nadu',\n",
       " 'Tripura',\n",
       " 'Uttar Pradesh',\n",
       " 'Uttarakhand',\n",
       " 'West Bengal',\n",
       " 'Andaman and Nicobar Islands',\n",
       " 'Chandigarh',\n",
       " 'Dadra and Nagar Haveli',\n",
       " 'Daman and Diu',\n",
       " 'Delhi',\n",
       " 'Lakshadweep',\n",
       " 'Puducherry',\n",
       " 'INDIA',\n",
       " 'Ladakh',\n",
       " 'Telangana']"
      ]
     },
     "execution_count": 68,
     "metadata": {},
     "output_type": "execute_result"
    }
   ],
   "source": [
    "states = df['States/Union Territories'].unique().tolist()\n",
    "states "
   ]
  },
  {
   "cell_type": "code",
   "execution_count": 69,
   "id": "ead08d76-775c-43f7-9233-d5a73938a7f0",
   "metadata": {},
   "outputs": [
    {
     "data": {
      "text/plain": [
       "['2008-09', '2009-10', '2010-11', '2011-2012', '2021-2022']"
      ]
     },
     "execution_count": 69,
     "metadata": {},
     "output_type": "execute_result"
    }
   ],
   "source": [
    "year = df['Year'].unique().tolist()\n",
    "year"
   ]
  },
  {
   "cell_type": "code",
   "execution_count": 70,
   "id": "84a7bdd3-ed70-40b3-a71f-53e01af0b3a7",
   "metadata": {},
   "outputs": [],
   "source": [
    "import pandas as pd\n",
    "import streamlit as st\n",
    "import plotly.express as px\n",
    "from PIL import Image"
   ]
  },
  {
   "cell_type": "code",
   "execution_count": 71,
   "id": "bc9d9498-0f84-49fb-b64c-cc7c704d0c2a",
   "metadata": {},
   "outputs": [],
   "source": [
    "df_unpivot = pd.melt(df, id_vars=['States/Union Territories','Year'], value_vars=['Higher Secondary (11-12)',\n",
    "       'Secondary (9-10)', 'Upper Primary (6-8)', ' Primary (1 to 5)'],var_name='Education_Level', value_name='Ratio')"
   ]
  },
  {
   "cell_type": "code",
   "execution_count": 72,
   "id": "0cbd2abb-5aaf-4ec0-9f0e-d89788a62150",
   "metadata": {},
   "outputs": [
    {
     "data": {
      "text/plain": [
       "Index(['States/Union Territories', 'Year', 'Education_Level', 'Ratio'], dtype='object')"
      ]
     },
     "execution_count": 72,
     "metadata": {},
     "output_type": "execute_result"
    }
   ],
   "source": [
    "df_unpivot.columns"
   ]
  },
  {
   "cell_type": "code",
   "execution_count": 73,
   "id": "74268964-59e8-44e5-8f3f-7a102703169f",
   "metadata": {},
   "outputs": [
    {
     "data": {
      "text/plain": [
       "255.0"
      ]
     },
     "execution_count": 73,
     "metadata": {},
     "output_type": "execute_result"
    }
   ],
   "source": [
    "max(df_unpivot['Ratio'])"
   ]
  },
  {
   "cell_type": "code",
   "execution_count": 74,
   "id": "9e49280a-5fd3-43e8-b406-d3035dd195f2",
   "metadata": {},
   "outputs": [],
   "source": [
    "# df_unpivot.to_excel('unpivit.xlsx')"
   ]
  },
  {
   "cell_type": "code",
   "execution_count": 75,
   "id": "73593dd9-68b7-47ea-9185-ddf9666203be",
   "metadata": {},
   "outputs": [
    {
     "data": {
      "text/html": [
       "<div>\n",
       "<style scoped>\n",
       "    .dataframe tbody tr th:only-of-type {\n",
       "        vertical-align: middle;\n",
       "    }\n",
       "\n",
       "    .dataframe tbody tr th {\n",
       "        vertical-align: top;\n",
       "    }\n",
       "\n",
       "    .dataframe thead th {\n",
       "        text-align: right;\n",
       "    }\n",
       "</style>\n",
       "<table border=\"1\" class=\"dataframe\">\n",
       "  <thead>\n",
       "    <tr style=\"text-align: right;\">\n",
       "      <th></th>\n",
       "      <th>Education_Level</th>\n",
       "      <th>Ratio</th>\n",
       "    </tr>\n",
       "  </thead>\n",
       "  <tbody>\n",
       "    <tr>\n",
       "      <th>0</th>\n",
       "      <td>Primary (1 to 5)</td>\n",
       "      <td>30.818681</td>\n",
       "    </tr>\n",
       "    <tr>\n",
       "      <th>1</th>\n",
       "      <td>Higher Secondary (11-12)</td>\n",
       "      <td>28.846154</td>\n",
       "    </tr>\n",
       "    <tr>\n",
       "      <th>2</th>\n",
       "      <td>Secondary (9-10)</td>\n",
       "      <td>26.918956</td>\n",
       "    </tr>\n",
       "    <tr>\n",
       "      <th>3</th>\n",
       "      <td>Upper Primary (6-8)</td>\n",
       "      <td>26.777473</td>\n",
       "    </tr>\n",
       "  </tbody>\n",
       "</table>\n",
       "</div>"
      ],
      "text/plain": [
       "            Education_Level      Ratio\n",
       "0          Primary (1 to 5)  30.818681\n",
       "1  Higher Secondary (11-12)  28.846154\n",
       "2          Secondary (9-10)  26.918956\n",
       "3       Upper Primary (6-8)  26.777473"
      ]
     },
     "execution_count": 75,
     "metadata": {},
     "output_type": "execute_result"
    }
   ],
   "source": [
    "df_grouped=df_unpivot.groupby('Education_Level',as_index=False)[['Ratio']].mean() \n",
    "df_grouped"
   ]
  },
  {
   "cell_type": "code",
   "execution_count": 99,
   "id": "dbfbe2ed-d4a3-467f-bd97-e489f6b4397f",
   "metadata": {},
   "outputs": [
    {
     "data": {
      "text/plain": [
       "0    30\n",
       "1    28\n",
       "2    26\n",
       "3    26\n",
       "Name: Ratio, dtype: int64"
      ]
     },
     "execution_count": 99,
     "metadata": {},
     "output_type": "execute_result"
    }
   ],
   "source": [
    " \n",
    "df_grouped['Ratio'].astype(int)"
   ]
  },
  {
   "cell_type": "code",
   "execution_count": 90,
   "id": "043fa6d0-5cbb-4573-925a-e6f5c0b009e0",
   "metadata": {},
   "outputs": [],
   "source": [
    "bar_chart = px.bar(df_grouped, \n",
    "             x='Education_Level', \n",
    "             y='Ratio',\n",
    "             text='Ratio',\n",
    "             color_discrete_sequence =['#F63366']*len(df_grouped),\n",
    "             template= 'plotly_white')"
   ]
  },
  {
   "cell_type": "code",
   "execution_count": 95,
   "id": "ea7c7a74-5436-48d1-9406-34cedfdd238c",
   "metadata": {},
   "outputs": [
    {
     "ename": "AttributeError",
     "evalue": "module 'plotly.offline' has no attribute 'bar'",
     "output_type": "error",
     "traceback": [
      "\u001b[1;31m---------------------------------------------------------------------------\u001b[0m",
      "\u001b[1;31mAttributeError\u001b[0m                            Traceback (most recent call last)",
      "Cell \u001b[1;32mIn[95], line 1\u001b[0m\n\u001b[1;32m----> 1\u001b[0m bar_chart \u001b[38;5;241m=\u001b[39m \u001b[43mpo\u001b[49m\u001b[38;5;241;43m.\u001b[39;49m\u001b[43mbar\u001b[49m(df_grouped, \n\u001b[0;32m      2\u001b[0m              x\u001b[38;5;241m=\u001b[39m\u001b[38;5;124m'\u001b[39m\u001b[38;5;124mEducation_Level\u001b[39m\u001b[38;5;124m'\u001b[39m, \n\u001b[0;32m      3\u001b[0m              y\u001b[38;5;241m=\u001b[39m\u001b[38;5;124m'\u001b[39m\u001b[38;5;124mRatio\u001b[39m\u001b[38;5;124m'\u001b[39m)\n",
      "\u001b[1;31mAttributeError\u001b[0m: module 'plotly.offline' has no attribute 'bar'"
     ]
    }
   ],
   "source": [
    "bar_chart = po.bar(df_grouped, \n",
    "             x='Education_Level', \n",
    "             y='Ratio')"
   ]
  },
  {
   "cell_type": "code",
   "execution_count": 87,
   "id": "adff25e2-e894-499d-93b4-64e4b240addc",
   "metadata": {},
   "outputs": [
    {
     "data": {
      "text/html": [
       "<div>\n",
       "<style scoped>\n",
       "    .dataframe tbody tr th:only-of-type {\n",
       "        vertical-align: middle;\n",
       "    }\n",
       "\n",
       "    .dataframe tbody tr th {\n",
       "        vertical-align: top;\n",
       "    }\n",
       "\n",
       "    .dataframe thead th {\n",
       "        text-align: right;\n",
       "    }\n",
       "</style>\n",
       "<table border=\"1\" class=\"dataframe\">\n",
       "  <thead>\n",
       "    <tr style=\"text-align: right;\">\n",
       "      <th></th>\n",
       "      <th>Education_Level</th>\n",
       "      <th>Year</th>\n",
       "      <th>Ratio</th>\n",
       "    </tr>\n",
       "  </thead>\n",
       "  <tbody>\n",
       "    <tr>\n",
       "      <th>0</th>\n",
       "      <td>Primary (1 to 5)</td>\n",
       "      <td>2008-09</td>\n",
       "      <td>35.638889</td>\n",
       "    </tr>\n",
       "    <tr>\n",
       "      <th>1</th>\n",
       "      <td>Primary (1 to 5)</td>\n",
       "      <td>2009-10</td>\n",
       "      <td>32.777778</td>\n",
       "    </tr>\n",
       "    <tr>\n",
       "      <th>2</th>\n",
       "      <td>Primary (1 to 5)</td>\n",
       "      <td>2010-11</td>\n",
       "      <td>32.666667</td>\n",
       "    </tr>\n",
       "    <tr>\n",
       "      <th>3</th>\n",
       "      <td>Primary (1 to 5)</td>\n",
       "      <td>2011-2012</td>\n",
       "      <td>31.222222</td>\n",
       "    </tr>\n",
       "    <tr>\n",
       "      <th>4</th>\n",
       "      <td>Primary (1 to 5)</td>\n",
       "      <td>2021-2022</td>\n",
       "      <td>22.263158</td>\n",
       "    </tr>\n",
       "    <tr>\n",
       "      <th>5</th>\n",
       "      <td>Higher Secondary (11-12)</td>\n",
       "      <td>2008-09</td>\n",
       "      <td>31.027778</td>\n",
       "    </tr>\n",
       "    <tr>\n",
       "      <th>6</th>\n",
       "      <td>Higher Secondary (11-12)</td>\n",
       "      <td>2009-10</td>\n",
       "      <td>30.277778</td>\n",
       "    </tr>\n",
       "    <tr>\n",
       "      <th>7</th>\n",
       "      <td>Higher Secondary (11-12)</td>\n",
       "      <td>2010-11</td>\n",
       "      <td>28.500000</td>\n",
       "    </tr>\n",
       "    <tr>\n",
       "      <th>8</th>\n",
       "      <td>Higher Secondary (11-12)</td>\n",
       "      <td>2011-2012</td>\n",
       "      <td>30.750000</td>\n",
       "    </tr>\n",
       "    <tr>\n",
       "      <th>9</th>\n",
       "      <td>Higher Secondary (11-12)</td>\n",
       "      <td>2021-2022</td>\n",
       "      <td>23.947368</td>\n",
       "    </tr>\n",
       "    <tr>\n",
       "      <th>10</th>\n",
       "      <td>Secondary (9-10)</td>\n",
       "      <td>2008-09</td>\n",
       "      <td>28.722222</td>\n",
       "    </tr>\n",
       "    <tr>\n",
       "      <th>11</th>\n",
       "      <td>Secondary (9-10)</td>\n",
       "      <td>2009-10</td>\n",
       "      <td>27.125000</td>\n",
       "    </tr>\n",
       "    <tr>\n",
       "      <th>12</th>\n",
       "      <td>Secondary (9-10)</td>\n",
       "      <td>2010-11</td>\n",
       "      <td>27.958333</td>\n",
       "    </tr>\n",
       "    <tr>\n",
       "      <th>13</th>\n",
       "      <td>Secondary (9-10)</td>\n",
       "      <td>2011-2012</td>\n",
       "      <td>35.812500</td>\n",
       "    </tr>\n",
       "    <tr>\n",
       "      <th>14</th>\n",
       "      <td>Secondary (9-10)</td>\n",
       "      <td>2021-2022</td>\n",
       "      <td>15.605263</td>\n",
       "    </tr>\n",
       "    <tr>\n",
       "      <th>15</th>\n",
       "      <td>Upper Primary (6-8)</td>\n",
       "      <td>2008-09</td>\n",
       "      <td>28.888889</td>\n",
       "    </tr>\n",
       "    <tr>\n",
       "      <th>16</th>\n",
       "      <td>Upper Primary (6-8)</td>\n",
       "      <td>2009-10</td>\n",
       "      <td>27.513889</td>\n",
       "    </tr>\n",
       "    <tr>\n",
       "      <th>17</th>\n",
       "      <td>Upper Primary (6-8)</td>\n",
       "      <td>2010-11</td>\n",
       "      <td>28.625000</td>\n",
       "    </tr>\n",
       "    <tr>\n",
       "      <th>18</th>\n",
       "      <td>Upper Primary (6-8)</td>\n",
       "      <td>2011-2012</td>\n",
       "      <td>32.347222</td>\n",
       "    </tr>\n",
       "    <tr>\n",
       "      <th>19</th>\n",
       "      <td>Upper Primary (6-8)</td>\n",
       "      <td>2021-2022</td>\n",
       "      <td>17.052632</td>\n",
       "    </tr>\n",
       "  </tbody>\n",
       "</table>\n",
       "</div>"
      ],
      "text/plain": [
       "             Education_Level       Year      Ratio\n",
       "0           Primary (1 to 5)    2008-09  35.638889\n",
       "1           Primary (1 to 5)    2009-10  32.777778\n",
       "2           Primary (1 to 5)    2010-11  32.666667\n",
       "3           Primary (1 to 5)  2011-2012  31.222222\n",
       "4           Primary (1 to 5)  2021-2022  22.263158\n",
       "5   Higher Secondary (11-12)    2008-09  31.027778\n",
       "6   Higher Secondary (11-12)    2009-10  30.277778\n",
       "7   Higher Secondary (11-12)    2010-11  28.500000\n",
       "8   Higher Secondary (11-12)  2011-2012  30.750000\n",
       "9   Higher Secondary (11-12)  2021-2022  23.947368\n",
       "10          Secondary (9-10)    2008-09  28.722222\n",
       "11          Secondary (9-10)    2009-10  27.125000\n",
       "12          Secondary (9-10)    2010-11  27.958333\n",
       "13          Secondary (9-10)  2011-2012  35.812500\n",
       "14          Secondary (9-10)  2021-2022  15.605263\n",
       "15       Upper Primary (6-8)    2008-09  28.888889\n",
       "16       Upper Primary (6-8)    2009-10  27.513889\n",
       "17       Upper Primary (6-8)    2010-11  28.625000\n",
       "18       Upper Primary (6-8)  2011-2012  32.347222\n",
       "19       Upper Primary (6-8)  2021-2022  17.052632"
      ]
     },
     "execution_count": 87,
     "metadata": {},
     "output_type": "execute_result"
    }
   ],
   "source": [
    "df_unpivot.groupby(['Education_Level','Year'],as_index=False)[['Ratio']].mean()"
   ]
  },
  {
   "cell_type": "code",
   "execution_count": 79,
   "id": "cae6f5a2-dd2b-4f35-b19c-d1b04e8f0404",
   "metadata": {},
   "outputs": [],
   "source": [
    "import plotly.io as pio\n",
    "pio.renderers.default='notebook'"
   ]
  },
  {
   "cell_type": "code",
   "execution_count": 1,
   "id": "86acd7ad-8189-4ad5-8539-3f0852e549e7",
   "metadata": {},
   "outputs": [
    {
     "ename": "NameError",
     "evalue": "name 'bar_chart' is not defined",
     "output_type": "error",
     "traceback": [
      "\u001b[1;31m---------------------------------------------------------------------------\u001b[0m",
      "\u001b[1;31mNameError\u001b[0m                                 Traceback (most recent call last)",
      "Cell \u001b[1;32mIn[1], line 1\u001b[0m\n\u001b[1;32m----> 1\u001b[0m \u001b[43mbar_chart\u001b[49m\u001b[38;5;241m.\u001b[39mshow()\n",
      "\u001b[1;31mNameError\u001b[0m: name 'bar_chart' is not defined"
     ]
    }
   ],
   "source": [
    "bar_chart.show()"
   ]
  },
  {
   "cell_type": "code",
   "execution_count": 81,
   "id": "5fb02ccc-53cc-45c5-a3b4-4d6690427dbd",
   "metadata": {},
   "outputs": [
    {
     "data": {
      "text/html": [
       "<div>\n",
       "<style scoped>\n",
       "    .dataframe tbody tr th:only-of-type {\n",
       "        vertical-align: middle;\n",
       "    }\n",
       "\n",
       "    .dataframe tbody tr th {\n",
       "        vertical-align: top;\n",
       "    }\n",
       "\n",
       "    .dataframe thead th {\n",
       "        text-align: right;\n",
       "    }\n",
       "</style>\n",
       "<table border=\"1\" class=\"dataframe\">\n",
       "  <thead>\n",
       "    <tr style=\"text-align: right;\">\n",
       "      <th></th>\n",
       "      <th>Education_Level</th>\n",
       "      <th>Year</th>\n",
       "      <th>Ratio</th>\n",
       "    </tr>\n",
       "  </thead>\n",
       "  <tbody>\n",
       "    <tr>\n",
       "      <th>0</th>\n",
       "      <td>Primary (1 to 5)</td>\n",
       "      <td>2008-09</td>\n",
       "      <td>35.638889</td>\n",
       "    </tr>\n",
       "    <tr>\n",
       "      <th>1</th>\n",
       "      <td>Primary (1 to 5)</td>\n",
       "      <td>2009-10</td>\n",
       "      <td>32.777778</td>\n",
       "    </tr>\n",
       "    <tr>\n",
       "      <th>2</th>\n",
       "      <td>Primary (1 to 5)</td>\n",
       "      <td>2010-11</td>\n",
       "      <td>32.666667</td>\n",
       "    </tr>\n",
       "    <tr>\n",
       "      <th>3</th>\n",
       "      <td>Primary (1 to 5)</td>\n",
       "      <td>2011-2012</td>\n",
       "      <td>31.222222</td>\n",
       "    </tr>\n",
       "    <tr>\n",
       "      <th>4</th>\n",
       "      <td>Primary (1 to 5)</td>\n",
       "      <td>2021-2022</td>\n",
       "      <td>22.263158</td>\n",
       "    </tr>\n",
       "    <tr>\n",
       "      <th>5</th>\n",
       "      <td>Higher Secondary (11-12)</td>\n",
       "      <td>2008-09</td>\n",
       "      <td>31.027778</td>\n",
       "    </tr>\n",
       "    <tr>\n",
       "      <th>6</th>\n",
       "      <td>Higher Secondary (11-12)</td>\n",
       "      <td>2009-10</td>\n",
       "      <td>30.277778</td>\n",
       "    </tr>\n",
       "    <tr>\n",
       "      <th>7</th>\n",
       "      <td>Higher Secondary (11-12)</td>\n",
       "      <td>2010-11</td>\n",
       "      <td>28.500000</td>\n",
       "    </tr>\n",
       "    <tr>\n",
       "      <th>8</th>\n",
       "      <td>Higher Secondary (11-12)</td>\n",
       "      <td>2011-2012</td>\n",
       "      <td>30.750000</td>\n",
       "    </tr>\n",
       "    <tr>\n",
       "      <th>9</th>\n",
       "      <td>Higher Secondary (11-12)</td>\n",
       "      <td>2021-2022</td>\n",
       "      <td>23.947368</td>\n",
       "    </tr>\n",
       "    <tr>\n",
       "      <th>10</th>\n",
       "      <td>Secondary (9-10)</td>\n",
       "      <td>2008-09</td>\n",
       "      <td>28.722222</td>\n",
       "    </tr>\n",
       "    <tr>\n",
       "      <th>11</th>\n",
       "      <td>Secondary (9-10)</td>\n",
       "      <td>2009-10</td>\n",
       "      <td>27.125000</td>\n",
       "    </tr>\n",
       "    <tr>\n",
       "      <th>12</th>\n",
       "      <td>Secondary (9-10)</td>\n",
       "      <td>2010-11</td>\n",
       "      <td>27.958333</td>\n",
       "    </tr>\n",
       "    <tr>\n",
       "      <th>13</th>\n",
       "      <td>Secondary (9-10)</td>\n",
       "      <td>2011-2012</td>\n",
       "      <td>35.812500</td>\n",
       "    </tr>\n",
       "    <tr>\n",
       "      <th>14</th>\n",
       "      <td>Secondary (9-10)</td>\n",
       "      <td>2021-2022</td>\n",
       "      <td>15.605263</td>\n",
       "    </tr>\n",
       "    <tr>\n",
       "      <th>15</th>\n",
       "      <td>Upper Primary (6-8)</td>\n",
       "      <td>2008-09</td>\n",
       "      <td>28.888889</td>\n",
       "    </tr>\n",
       "    <tr>\n",
       "      <th>16</th>\n",
       "      <td>Upper Primary (6-8)</td>\n",
       "      <td>2009-10</td>\n",
       "      <td>27.513889</td>\n",
       "    </tr>\n",
       "    <tr>\n",
       "      <th>17</th>\n",
       "      <td>Upper Primary (6-8)</td>\n",
       "      <td>2010-11</td>\n",
       "      <td>28.625000</td>\n",
       "    </tr>\n",
       "    <tr>\n",
       "      <th>18</th>\n",
       "      <td>Upper Primary (6-8)</td>\n",
       "      <td>2011-2012</td>\n",
       "      <td>32.347222</td>\n",
       "    </tr>\n",
       "    <tr>\n",
       "      <th>19</th>\n",
       "      <td>Upper Primary (6-8)</td>\n",
       "      <td>2021-2022</td>\n",
       "      <td>17.052632</td>\n",
       "    </tr>\n",
       "  </tbody>\n",
       "</table>\n",
       "</div>"
      ],
      "text/plain": [
       "             Education_Level       Year      Ratio\n",
       "0           Primary (1 to 5)    2008-09  35.638889\n",
       "1           Primary (1 to 5)    2009-10  32.777778\n",
       "2           Primary (1 to 5)    2010-11  32.666667\n",
       "3           Primary (1 to 5)  2011-2012  31.222222\n",
       "4           Primary (1 to 5)  2021-2022  22.263158\n",
       "5   Higher Secondary (11-12)    2008-09  31.027778\n",
       "6   Higher Secondary (11-12)    2009-10  30.277778\n",
       "7   Higher Secondary (11-12)    2010-11  28.500000\n",
       "8   Higher Secondary (11-12)  2011-2012  30.750000\n",
       "9   Higher Secondary (11-12)  2021-2022  23.947368\n",
       "10          Secondary (9-10)    2008-09  28.722222\n",
       "11          Secondary (9-10)    2009-10  27.125000\n",
       "12          Secondary (9-10)    2010-11  27.958333\n",
       "13          Secondary (9-10)  2011-2012  35.812500\n",
       "14          Secondary (9-10)  2021-2022  15.605263\n",
       "15       Upper Primary (6-8)    2008-09  28.888889\n",
       "16       Upper Primary (6-8)    2009-10  27.513889\n",
       "17       Upper Primary (6-8)    2010-11  28.625000\n",
       "18       Upper Primary (6-8)  2011-2012  32.347222\n",
       "19       Upper Primary (6-8)  2021-2022  17.052632"
      ]
     },
     "execution_count": 81,
     "metadata": {},
     "output_type": "execute_result"
    }
   ],
   "source": [
    "df_grouped_year=df_unpivot.groupby(['Education_Level','Year'],as_index=False)[['Ratio']].mean() \n",
    "df_grouped_year"
   ]
  },
  {
   "cell_type": "code",
   "execution_count": 97,
   "id": "14f721c6-a05c-43ba-827b-565680b2b85a",
   "metadata": {},
   "outputs": [
    {
     "ename": "AttributeError",
     "evalue": "module 'chart_studio.plotly' has no attribute 'bar'",
     "output_type": "error",
     "traceback": [
      "\u001b[1;31m---------------------------------------------------------------------------\u001b[0m",
      "\u001b[1;31mAttributeError\u001b[0m                            Traceback (most recent call last)",
      "Cell \u001b[1;32mIn[97], line 1\u001b[0m\n\u001b[1;32m----> 1\u001b[0m \u001b[43mpy\u001b[49m\u001b[38;5;241;43m.\u001b[39;49m\u001b[43mbar\u001b[49m(df_grouped_year)\n",
      "\u001b[1;31mAttributeError\u001b[0m: module 'chart_studio.plotly' has no attribute 'bar'"
     ]
    }
   ],
   "source": [
    "py.bar(df_grouped_year)"
   ]
  },
  {
   "cell_type": "code",
   "execution_count": 2,
   "id": "dc685a38-83c8-45ae-87b0-2706c1bb28ee",
   "metadata": {},
   "outputs": [],
   "source": [
    "import plotly.express as px"
   ]
  },
  {
   "cell_type": "code",
   "execution_count": null,
   "id": "f944279f-c949-4a28-88cb-11b61deae842",
   "metadata": {},
   "outputs": [],
   "source": [
    "fig_speed = px.bar(df_speed_grouped, x=\"Service Provider\", y=\"Data Speed(Mbps)\", \n",
    "             color=\"Year\", text='Data Speed(Mbps)',barmode = 'group')"
   ]
  }
 ],
 "metadata": {
  "kernelspec": {
   "display_name": "Python 3 (ipykernel)",
   "language": "python",
   "name": "python3"
  },
  "language_info": {
   "codemirror_mode": {
    "name": "ipython",
    "version": 3
   },
   "file_extension": ".py",
   "mimetype": "text/x-python",
   "name": "python",
   "nbconvert_exporter": "python",
   "pygments_lexer": "ipython3",
   "version": "3.12.0"
  }
 },
 "nbformat": 4,
 "nbformat_minor": 5
}
