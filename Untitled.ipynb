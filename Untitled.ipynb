{
 "cells": [
  {
   "cell_type": "code",
   "execution_count": 1,
   "id": "380886de-75c0-4abd-a630-74a28e70490c",
   "metadata": {},
   "outputs": [
    {
     "ename": "ModuleNotFoundError",
     "evalue": "No module named 'snowflake.snowpark'",
     "output_type": "error",
     "traceback": [
      "\u001b[1;31m---------------------------------------------------------------------------\u001b[0m",
      "\u001b[1;31mModuleNotFoundError\u001b[0m                       Traceback (most recent call last)",
      "Cell \u001b[1;32mIn[1], line 3\u001b[0m\n\u001b[0;32m      1\u001b[0m \u001b[38;5;28;01mimport\u001b[39;00m \u001b[38;5;21;01mos\u001b[39;00m\n\u001b[1;32m----> 3\u001b[0m \u001b[38;5;28;01mfrom\u001b[39;00m \u001b[38;5;21;01msnowflake\u001b[39;00m\u001b[38;5;21;01m.\u001b[39;00m\u001b[38;5;21;01msnowpark\u001b[39;00m \u001b[38;5;28;01mimport\u001b[39;00m Session\n\u001b[0;32m      4\u001b[0m \u001b[38;5;28;01mfrom\u001b[39;00m \u001b[38;5;21;01msnowflake\u001b[39;00m\u001b[38;5;21;01m.\u001b[39;00m\u001b[38;5;21;01mcortex\u001b[39;00m \u001b[38;5;28;01mimport\u001b[39;00m Summarize, Complete, ExtractAnswer, Sentiment, Translate\n",
      "\u001b[1;31mModuleNotFoundError\u001b[0m: No module named 'snowflake.snowpark'"
     ]
    }
   ],
   "source": [
    "import os\n",
    "\n",
    "from snowflake.snowpark import Session\n",
    "from snowflake.cortex import Summarize, Complete, ExtractAnswer, Sentiment, Translate"
   ]
  },
  {
   "cell_type": "code",
   "execution_count": null,
   "id": "4091bbfa-ef32-41e3-a902-bb9f4cdf41ac",
   "metadata": {},
   "outputs": [],
   "source": [
    "pip uninstall snowflake-connector-python"
   ]
  },
  {
   "cell_type": "code",
   "execution_count": 4,
   "id": "5d9eeed6-1d7d-405f-a1d4-8d4fe22960d5",
   "metadata": {},
   "outputs": [
    {
     "name": "stdout",
     "output_type": "stream",
     "text": [
      "Collecting snowflake.sqlalchemy\n",
      "  Obtaining dependency information for snowflake.sqlalchemy from https://files.pythonhosted.org/packages/11/0c/6a1b6d9c7291a35b4f72d43fcf9a79e7aa1260bc4c66614b400d31090c94/snowflake_sqlalchemy-1.6.1-py3-none-any.whl.metadata\n",
      "  Downloading snowflake_sqlalchemy-1.6.1-py3-none-any.whl.metadata (20 kB)\n",
      "Requirement already satisfied: snowflake-connector-python<4.0.0 in c:\\users\\dell\\appdata\\local\\programs\\python\\python312\\lib\\site-packages (from snowflake.sqlalchemy) (3.12.2)\n",
      "Collecting sqlalchemy>=1.4.19 (from snowflake.sqlalchemy)\n",
      "  Obtaining dependency information for sqlalchemy>=1.4.19 from https://files.pythonhosted.org/packages/ad/fc/d1315ddb8529c768789954350268cd53167747649ddb709517c5e0a15c7e/SQLAlchemy-2.0.34-cp312-cp312-win_amd64.whl.metadata\n",
      "  Downloading SQLAlchemy-2.0.34-cp312-cp312-win_amd64.whl.metadata (9.9 kB)\n",
      "Requirement already satisfied: asn1crypto<2.0.0,>0.24.0 in c:\\users\\dell\\appdata\\local\\programs\\python\\python312\\lib\\site-packages (from snowflake-connector-python<4.0.0->snowflake.sqlalchemy) (1.5.1)\n",
      "Requirement already satisfied: cffi<2.0.0,>=1.9 in c:\\users\\dell\\appdata\\local\\programs\\python\\python312\\lib\\site-packages (from snowflake-connector-python<4.0.0->snowflake.sqlalchemy) (1.17.1)\n",
      "Requirement already satisfied: cryptography>=3.1.0 in c:\\users\\dell\\appdata\\local\\programs\\python\\python312\\lib\\site-packages (from snowflake-connector-python<4.0.0->snowflake.sqlalchemy) (43.0.1)\n",
      "Requirement already satisfied: pyOpenSSL<25.0.0,>=16.2.0 in c:\\users\\dell\\appdata\\local\\programs\\python\\python312\\lib\\site-packages (from snowflake-connector-python<4.0.0->snowflake.sqlalchemy) (24.2.1)\n",
      "Requirement already satisfied: pyjwt<3.0.0 in c:\\users\\dell\\appdata\\local\\programs\\python\\python312\\lib\\site-packages (from snowflake-connector-python<4.0.0->snowflake.sqlalchemy) (2.9.0)\n",
      "Requirement already satisfied: pytz in c:\\users\\dell\\appdata\\local\\programs\\python\\python312\\lib\\site-packages (from snowflake-connector-python<4.0.0->snowflake.sqlalchemy) (2024.1)\n",
      "Requirement already satisfied: requests<3.0.0 in c:\\users\\dell\\appdata\\local\\programs\\python\\python312\\lib\\site-packages (from snowflake-connector-python<4.0.0->snowflake.sqlalchemy) (2.32.3)\n",
      "Requirement already satisfied: packaging in c:\\users\\dell\\appdata\\local\\programs\\python\\python312\\lib\\site-packages (from snowflake-connector-python<4.0.0->snowflake.sqlalchemy) (24.1)\n",
      "Requirement already satisfied: charset-normalizer<4,>=2 in c:\\users\\dell\\appdata\\local\\programs\\python\\python312\\lib\\site-packages (from snowflake-connector-python<4.0.0->snowflake.sqlalchemy) (3.3.2)\n",
      "Requirement already satisfied: idna<4,>=2.5 in c:\\users\\dell\\appdata\\local\\programs\\python\\python312\\lib\\site-packages (from snowflake-connector-python<4.0.0->snowflake.sqlalchemy) (3.8)\n",
      "Requirement already satisfied: certifi>=2017.4.17 in c:\\users\\dell\\appdata\\local\\programs\\python\\python312\\lib\\site-packages (from snowflake-connector-python<4.0.0->snowflake.sqlalchemy) (2024.8.30)\n",
      "Requirement already satisfied: typing-extensions<5,>=4.3 in c:\\users\\dell\\appdata\\local\\programs\\python\\python312\\lib\\site-packages (from snowflake-connector-python<4.0.0->snowflake.sqlalchemy) (4.12.2)\n",
      "Requirement already satisfied: filelock<4,>=3.5 in c:\\users\\dell\\appdata\\local\\programs\\python\\python312\\lib\\site-packages (from snowflake-connector-python<4.0.0->snowflake.sqlalchemy) (3.16.0)\n",
      "Requirement already satisfied: sortedcontainers>=2.4.0 in c:\\users\\dell\\appdata\\local\\programs\\python\\python312\\lib\\site-packages (from snowflake-connector-python<4.0.0->snowflake.sqlalchemy) (2.4.0)\n",
      "Requirement already satisfied: platformdirs<5.0.0,>=2.6.0 in c:\\users\\dell\\appdata\\local\\programs\\python\\python312\\lib\\site-packages (from snowflake-connector-python<4.0.0->snowflake.sqlalchemy) (4.3.2)\n",
      "Requirement already satisfied: tomlkit in c:\\users\\dell\\appdata\\local\\programs\\python\\python312\\lib\\site-packages (from snowflake-connector-python<4.0.0->snowflake.sqlalchemy) (0.13.2)\n",
      "Collecting greenlet!=0.4.17 (from sqlalchemy>=1.4.19->snowflake.sqlalchemy)\n",
      "  Obtaining dependency information for greenlet!=0.4.17 from https://files.pythonhosted.org/packages/0d/20/89674b7d62a19138b3352f6080f2ff3e1ee4a298b29bb793746423d0b908/greenlet-3.1.0-cp312-cp312-win_amd64.whl.metadata\n",
      "  Downloading greenlet-3.1.0-cp312-cp312-win_amd64.whl.metadata (3.9 kB)\n",
      "Requirement already satisfied: pycparser in c:\\users\\dell\\appdata\\local\\programs\\python\\python312\\lib\\site-packages (from cffi<2.0.0,>=1.9->snowflake-connector-python<4.0.0->snowflake.sqlalchemy) (2.22)\n",
      "Requirement already satisfied: urllib3<3,>=1.21.1 in c:\\users\\dell\\appdata\\local\\programs\\python\\python312\\lib\\site-packages (from requests<3.0.0->snowflake-connector-python<4.0.0->snowflake.sqlalchemy) (2.2.2)\n",
      "Downloading snowflake_sqlalchemy-1.6.1-py3-none-any.whl (43 kB)\n",
      "   ---------------------------------------- 0.0/43.7 kB ? eta -:--:--\n",
      "   ---------------------------- ----------- 30.7/43.7 kB 1.3 MB/s eta 0:00:01\n",
      "   ---------------------------------------- 43.7/43.7 kB 1.1 MB/s eta 0:00:00\n",
      "Downloading SQLAlchemy-2.0.34-cp312-cp312-win_amd64.whl (2.1 MB)\n",
      "   ---------------------------------------- 0.0/2.1 MB ? eta -:--:--\n",
      "   ------ --------------------------------- 0.4/2.1 MB 7.6 MB/s eta 0:00:01\n",
      "   ---------------- ----------------------- 0.9/2.1 MB 9.4 MB/s eta 0:00:01\n",
      "   --------------------------- ------------ 1.4/2.1 MB 10.0 MB/s eta 0:00:01\n",
      "   ----------------------------------- ---- 1.8/2.1 MB 9.8 MB/s eta 0:00:01\n",
      "   ---------------------------------------- 2.1/2.1 MB 9.5 MB/s eta 0:00:00\n",
      "Downloading greenlet-3.1.0-cp312-cp312-win_amd64.whl (294 kB)\n",
      "   ---------------------------------------- 0.0/294.6 kB ? eta -:--:--\n",
      "   --------------------------------------- 294.6/294.6 kB 19.0 MB/s eta 0:00:00\n",
      "Installing collected packages: greenlet, sqlalchemy, snowflake.sqlalchemy\n",
      "Successfully installed greenlet-3.1.0 snowflake.sqlalchemy-1.6.1 sqlalchemy-2.0.34\n",
      "Note: you may need to restart the kernel to use updated packages.\n"
     ]
    },
    {
     "name": "stderr",
     "output_type": "stream",
     "text": [
      "\n",
      "[notice] A new release of pip is available: 23.2.1 -> 24.2\n",
      "[notice] To update, run: python.exe -m pip install --upgrade pip\n"
     ]
    }
   ],
   "source": [
    "pip install snowflake.sqlalchemy"
   ]
  },
  {
   "cell_type": "code",
   "execution_count": null,
   "id": "65477ebd-84fd-4402-8919-384b1cd80107",
   "metadata": {},
   "outputs": [],
   "source": []
  }
 ],
 "metadata": {
  "kernelspec": {
   "display_name": "Python 3 (ipykernel)",
   "language": "python",
   "name": "python3"
  },
  "language_info": {
   "codemirror_mode": {
    "name": "ipython",
    "version": 3
   },
   "file_extension": ".py",
   "mimetype": "text/x-python",
   "name": "python",
   "nbconvert_exporter": "python",
   "pygments_lexer": "ipython3",
   "version": "3.12.0"
  }
 },
 "nbformat": 4,
 "nbformat_minor": 5
}
