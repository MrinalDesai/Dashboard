{
 "cells": [
  {
   "cell_type": "code",
   "execution_count": 1,
   "id": "8a801a96-e83f-4d4f-9752-c2516258d79e",
   "metadata": {},
   "outputs": [],
   "source": [
    "import pandas as pd"
   ]
  },
  {
   "cell_type": "code",
   "execution_count": null,
   "id": "f266b21c-bd05-4dca-ae15-721ca22cd361",
   "metadata": {},
   "outputs": [],
   "source": [
    "df_all_sc = pd.read_csv(f'nos/live_stats/StateUT-wise Number of Teachers - All Types of Management and School Category during 2021-22.csv')"
   ]
  }
 ],
 "metadata": {
  "kernelspec": {
   "display_name": "Python 3 (ipykernel)",
   "language": "python",
   "name": "python3"
  },
  "language_info": {
   "codemirror_mode": {
    "name": "ipython",
    "version": 3
   },
   "file_extension": ".py",
   "mimetype": "text/x-python",
   "name": "python",
   "nbconvert_exporter": "python",
   "pygments_lexer": "ipython3",
   "version": "3.12.0"
  }
 },
 "nbformat": 4,
 "nbformat_minor": 5
}
