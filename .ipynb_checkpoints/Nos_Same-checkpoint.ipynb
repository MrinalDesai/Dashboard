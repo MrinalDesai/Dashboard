{
 "cells": [
  {
   "cell_type": "code",
   "execution_count": 1,
   "id": "b8bf66cf-a69d-4302-8b20-c17596297f3c",
   "metadata": {},
   "outputs": [],
   "source": [
    "import pandas as pd"
   ]
  },
  {
   "cell_type": "code",
   "execution_count": 2,
   "id": "fac78814-7d4c-4be6-a42b-c70ad77c895e",
   "metadata": {},
   "outputs": [],
   "source": [
    "df_all_sc = pd.read_csv(f'nos/same/StateUT-wise Number of Teachers - All Types of Management and School Category during 2021-22.csv')\n",
    "df_all_m = pd.read_csv(f'nos/same/StateUT-wise Number of Teachers - All Types of Management by Management and Classes Taught during 2021-22.csv')\n",
    "df_ga_m = pd.read_csv(f'nos/same/StateUT-wise Number of Teachers - Government Aided by Management and Classes Taught during 2021-22.csv')\n",
    "df_g_m = pd.read_csv(f'nos/same/StateUT-wise Number of Teachers - Government by Management and Classes Taught during 2021-22.csv')\n",
    "df_o_m = pd.read_csv(f'nos/same/StateUT-wise Number of Teachers - Others by Management and Classes Taught during 2021-22.csv')\n",
    "df_o_g = pd.read_csv(f'nos/same/StateUT-wise Number of Teachers - Others by Management, Gender and Classes Taught during 2021-22.csv')\n",
    "df_pu = pd.read_csv(f'nos/same/StateUT-wise Number of Teachers - Private Unaided Recognized by Management and Classes Taught during 2021-22.csv')\n",
    "df_ga = pd.read_csv(f'nos/same/StateUT-wise Number of Teachers in Government Aided Schools by Management and School Category during 2021-22.csv')\n",
    "df_g = pd.read_csv(f'nos/same/StateUT-wise Number of Teachers in Government Schools by Management and School Category during 2021-22.csv')\n",
    "df_pu_sc = pd.read_csv(f'nos/same/StateUT-wise Number of Teachers in Private Unaided Recognized by Management and School Category during 2021-22.csv')"
   ]
  },
  {
   "cell_type": "code",
   "execution_count": 36,
   "id": "f96090d1-e1fd-4548-97d9-b682976e1bb5",
   "metadata": {},
   "outputs": [
    {
     "data": {
      "text/plain": [
       "Index(['India/State /UT',\n",
       "       'Number of Teachers in Private Unaided Recognized Schools - Total',\n",
       "       'Number of Teachers in Private Unaided Recognized Schools - Primary - (1 to 5)',\n",
       "       'Number of Teachers in Private Unaided Recognized Schools - Upper Primary - (1-8)',\n",
       "       'Number of Teachers in Private Unaided Recognized Schools - Upper Primary - (6-8)',\n",
       "       'Number of Teachers in Private Unaided Recognized Schools - Secondary - (1-10)',\n",
       "       'Number of Teachers in Private Unaided Recognized Schools - Secondary - (6-10)',\n",
       "       'Number of Teachers in Private Unaided Recognized Schools - Secondary - (9-10)',\n",
       "       'Number of Teachers in Private Unaided Recognized Schools - Higher Secondary - (1-12)',\n",
       "       'Number of Teachers in Private Unaided Recognized Schools - Higher Secondary - (6-12)',\n",
       "       'Number of Teachers in Private Unaided Recognized Schools - Higher Secondary - (9-12)',\n",
       "       'Number of Teachers in Private Unaided Recognized Schools - Higher Secondary - (11-12)'],\n",
       "      dtype='object')"
      ]
     },
     "execution_count": 36,
     "metadata": {},
     "output_type": "execute_result"
    }
   ],
   "source": [
    "df_pu_sc.columns"
   ]
  },
  {
   "cell_type": "code",
   "execution_count": 37,
   "id": "c2934721-d482-4060-9120-fdc072c9b72b",
   "metadata": {},
   "outputs": [],
   "source": [
    "df_unpivot_pu_sc = pd.melt(df_pu_sc, id_vars=['India/State /UT'], value_vars=[\n",
    "       'Number of Teachers in Private Unaided Recognized Schools - Total',\n",
    "       'Number of Teachers in Private Unaided Recognized Schools - Primary - (1 to 5)',\n",
    "       'Number of Teachers in Private Unaided Recognized Schools - Upper Primary - (1-8)',\n",
    "       'Number of Teachers in Private Unaided Recognized Schools - Upper Primary - (6-8)',\n",
    "       'Number of Teachers in Private Unaided Recognized Schools - Secondary - (1-10)',\n",
    "       'Number of Teachers in Private Unaided Recognized Schools - Secondary - (6-10)',\n",
    "       'Number of Teachers in Private Unaided Recognized Schools - Secondary - (9-10)',\n",
    "       'Number of Teachers in Private Unaided Recognized Schools - Higher Secondary - (1-12)',\n",
    "       'Number of Teachers in Private Unaided Recognized Schools - Higher Secondary - (6-12)',\n",
    "       'Number of Teachers in Private Unaided Recognized Schools - Higher Secondary - (9-12)',\n",
    "       'Number of Teachers in Private Unaided Recognized Schools - Higher Secondary - (11-12)'],var_name='Sub-Category', value_name='Value')\n",
    "df_unpivot_pu_sc['Category']='Private Unaided Recognized by Management and School Category'"
   ]
  },
  {
   "cell_type": "code",
   "execution_count": 38,
   "id": "99788f7f-3357-49aa-ba43-4d8579fe6907",
   "metadata": {},
   "outputs": [],
   "source": [
    "df_unpivot_g = pd.melt(df_g, id_vars=['India/State /UT'], value_vars=[\n",
    "       'Number of Teachers in Government Schools - Primary - (1 to 5)',\n",
    "       'Number of Teachers in Government Schools - Upper Primary - (1-8)',\n",
    "       'Number of Teachers in Government Schools - Upper Primary - (6-8)',\n",
    "       'Number of Teachers in Government Schools - Secondary - (1-10)',\n",
    "       'Number of Teachers in Government Schools - Secondary - (6-10)',\n",
    "       'Number of Teachers in Government Schools - Secondary - (9-10)',\n",
    "       'Number of Teachers in Government Schools - Higher Secondary - (1-12)',\n",
    "       'Number of Teachers in Government Schools - Higher Secondary - (6-12)',\n",
    "       'Number of Teachers in Government Schools - Higher Secondary - (9-12)',\n",
    "       'Number of Teachers in Government Schools - Higher Secondary - (11-12)'],var_name='Sub-Category', value_name='Value')\n",
    "df_unpivot_g['Category']='Government Schools by Management and School Category'"
   ]
  },
  {
   "cell_type": "code",
   "execution_count": 39,
   "id": "2a556229-014f-440e-9975-e493fb9a1aa3",
   "metadata": {},
   "outputs": [],
   "source": [
    "df_unpivot_ga = pd.melt(df_ga, id_vars=['India/State /UT'], value_vars=[\n",
    "       'Number of Teachers in Government Aided Schools - Total',\n",
    "       'Number of Teachers in Government Aided Schools - Primary - (1 to 5)',\n",
    "       'Number of Teachers in Government Aided Schools - Upper Primary - (1-8)',\n",
    "       'Number of Teachers in Government Aided Schools - Upper Primary - (6-8)',\n",
    "       'Number of Teachers in Government Aided Schools - Secondary - (1-10)',\n",
    "       'Number of Teachers in Government Aided Schools - Secondary - (6-10)',\n",
    "       'Number of Teachers in Government Aided Schools - Secondary - (9-10)',\n",
    "       'Number of Teachers in Government Aided Schools - Higher Secondary - (1-12)',\n",
    "       'Number of Teachers in Government Aided Schools - Higher Secondary - (6-12)',\n",
    "       'Number of Teachers in Government Aided Schools - Higher Secondary - (9-12)',\n",
    "       'Number of Teachers in Government Aided Schools - Higher Secondary - (11-12)'],var_name='Sub-Category', value_name='Value')\n",
    "df_unpivot_ga['Category']='Government Aided Schools by Management and School Category'"
   ]
  },
  {
   "cell_type": "code",
   "execution_count": 40,
   "id": "4fb577e1-b3a0-4357-88e9-becbad470917",
   "metadata": {},
   "outputs": [],
   "source": [
    "df_unpivot_pu = pd.melt(df_pu, id_vars=['India/State /UT'], value_vars=[\n",
    "       'Number of Teachers by Classes Taught - Private Unaided Recognized - Total',\n",
    "       'Number of Teachers by Classes Taught - Private Unaided Recognized - Pre-Primary Only',\n",
    "       'Number of Teachers by Classes Taught - Private Unaided Recognized - Pre-Primary and Primary',\n",
    "       'Number of Teachers by Classes Taught - Private Unaided Recognized - Primary Only',\n",
    "       'Number of Teachers by Classes Taught - Private Unaided Recognized - Primary and Upper Primary',\n",
    "       'Number of Teachers by Classes Taught - Private Unaided Recognized - Upper Primary Only',\n",
    "       'Number of Teachers by Classes Taught - Private Unaided Recognized - Upper Primary and Secondary',\n",
    "       'Number of Teachers by Classes Taught - Private Unaided Recognized - Secondary Only',\n",
    "       'Number of Teachers by Classes Taught - Private Unaided Recognized - Secondary and Higher Secondary',\n",
    "       'Number of Teachers by Classes Taught - Private Unaided Recognized - Higher Secondary Only'],var_name='Sub-Category', value_name='Value')\n",
    "df_unpivot_pu['Category']='Private Unaided Recognized by Management and Classes Taught'"
   ]
  },
  {
   "cell_type": "code",
   "execution_count": 41,
   "id": "d239d10e-1561-42f6-931a-2b75eac55c6a",
   "metadata": {},
   "outputs": [],
   "source": [
    "df_unpivot_o_g = pd.melt(df_o_g, id_vars=['India/State /UT'], value_vars=[\n",
    "       'Number of Teachers by Gender and Classes Taught - Others - Total - Male',\n",
    "       'Number of Teachers by Gender and Classes Taught - Others - Total - Female',\n",
    "       'Number of Teachers by Gender and Classes Taught - Others - Total - Total',\n",
    "       'Number of Teachers by Gender and Classes Taught - Others - Pre-Primary Only - Male',\n",
    "       'Number of Teachers by Gender and Classes Taught - Others - Pre-Primary Only - Female',\n",
    "       'Number of Teachers by Gender and Classes Taught - Others - Pre-Primary Only - Total',\n",
    "       'Number of Teachers by Gender and Classes Taught - Others - Pre-Primary & Primary - Male',\n",
    "       'Number of Teachers by Gender and Classes Taught - Others - Pre-Primary & Primary - Female',\n",
    "       'Number of Teachers by Gender and Classes Taught - Others - Pre-Primary & Primary - Total',\n",
    "       'Number of Teachers by Gender and Classes Taught - Others - Primary Only - Male',\n",
    "       'Number of Teachers by Gender and Classes Taught - Others - Primary Only - Female',\n",
    "       'Number of Teachers by Gender and Classes Taught - Others - Primary Only - Total',\n",
    "       'Number of Teachers by Gender and Classes Taught - Others - Primary & Upper Primary - Male',\n",
    "       'Number of Teachers by Gender and Classes Taught - Others - Primary & Upper Primary - Female',\n",
    "       'Number of Teachers by Gender and Classes Taught - Others - Primary & Upper Primary - Total',\n",
    "       'Number of Teachers by Gender and Classes Taught - Others - Upper Primary Only - Male',\n",
    "       'Number of Teachers by Gender and Classes Taught - Others - Upper Primary Only - Female',\n",
    "       'Number of Teachers by Gender and Classes Taught - Others - Upper Primary Only - Total',\n",
    "       'Number of Teachers by Gender and Classes Taught - Others - Upper Primary & Secondary - Male',\n",
    "       'Number of Teachers by Gender and Classes Taught - Others - Upper Primary & Secondary - Female',\n",
    "       'Number of Teachers by Gender and Classes Taught - Others - Upper Primary & Secondary - Total',\n",
    "       'Number of Teachers by Gender and Classes Taught - Others - Secondary Only - Male',\n",
    "       'Number of Teachers by Gender and Classes Taught - Others - Secondary Only - Female',\n",
    "       'Number of Teachers by Gender and Classes Taught - Others - Secondary Only - Total',\n",
    "       'Number of Teachers by Gender and Classes Taught - Others - Secondary & Higher Secondary - Male',\n",
    "       'Number of Teachers by Gender and Classes Taught - Others - Secondary & Higher Secondary - Female',\n",
    "       'Number of Teachers by Gender and Classes Taught - Others - Secondary & Higher Secondary - Total',\n",
    "       'Number of Teachers by Gender and Classes Taught - Others - Higher Secondary Only - Male',\n",
    "       'Number of Teachers by Gender and Classes Taught - Others - Higher Secondary Only - Female',\n",
    "       'Number of Teachers by Gender and Classes Taught - Others - Higher Secondary Only - Total'],var_name='Sub-Category', value_name='Value')\n",
    "df_unpivot_o_g['Category']='Others by Management, Gender and Classes Taught'"
   ]
  },
  {
   "cell_type": "code",
   "execution_count": 42,
   "id": "25c0d9dc-191b-4ab0-bc0e-7f39c6ea86a9",
   "metadata": {},
   "outputs": [],
   "source": [
    "df_unpivot_o_m = pd.melt(df_o_m, id_vars=['India/State /UT'], value_vars=[\n",
    "       'Number of Teachers by Classes Taught - Others - Total',\n",
    "       'Number of Teachers by Classes Taught - Others - Pre-Primary Only',\n",
    "       'Number of Teachers by Classes Taught - Others - Pre-Primary and Primary',\n",
    "       'Number of Teachers by Classes Taught - Others - Number of Teachers by Classes Taught - Others - Primary Only',\n",
    "       'Number of Teachers by Classes Taught - Others - Primary and Upper Primary',\n",
    "       'Number of Teachers by Classes Taught - Others - Upper Primary Only',\n",
    "       'Number of Teachers by Classes Taught - Others - Upper Primary and Secondary',\n",
    "       'Number of Teachers by Classes Taught - Others - Secondary Only',\n",
    "       'Number of Teachers by Classes Taught - Others - Secondary and Higher Secondary',\n",
    "       'Number of Teachers by Classes Taught - Others - Higher Secondary Only'],var_name='Sub-Category', value_name='Value')\n",
    "df_unpivot_o_m['Category']='Others by Management and Classes Taught'"
   ]
  },
  {
   "cell_type": "code",
   "execution_count": 43,
   "id": "1baca824-fcde-410a-8113-61da29860b46",
   "metadata": {},
   "outputs": [],
   "source": [
    "df_unpivot_g_m = pd.melt(df_g_m, id_vars=['India/State /UT'], value_vars=[\n",
    "       'Number of Teachers by Classes Taught - Government - Total',\n",
    "       'Number of Teachers by Classes Taught - Government - Pre-Primary Only',\n",
    "       'Number of Teachers by Classes Taught - Government - Pre-Primary and Primary',\n",
    "       'Number of Teachers by Classes Taught - Government - Primary Only',\n",
    "       'Number of Teachers by Classes Taught - Government - Primary and Upper Primary',\n",
    "       'Number of Teachers by Classes Taught - Government - Upper Primary Only',\n",
    "       'Number of Teachers by Classes Taught - Government - Upper Primary and Secondary',\n",
    "       'Number of Teachers by Classes Taught - Government - Secondary Only',\n",
    "       'Number of Teachers by Classes Taught - Government - Secondary and Higher Secondary',\n",
    "       'Higher Secondary Only'],var_name='Sub-Category', value_name='Value')\n",
    "df_unpivot_g_m['Category']='Teachers - Government by Management and Classes Taught'"
   ]
  },
  {
   "cell_type": "code",
   "execution_count": 44,
   "id": "da09f69f-46f3-4f40-ab99-a52544313db2",
   "metadata": {},
   "outputs": [],
   "source": [
    "df_unpivot_ga_m = pd.melt(df_ga_m, id_vars=['India/State /UT'], value_vars=[\n",
    "       'Number of Teachers by Classes Taught - Government Aided - Total',\n",
    "       'Number of Teachers by Classes Taught - Government Aided - Pre-Primary Only',\n",
    "       'Number of Teachers by Classes Taught - Government Aided - Pre-Primary and Primary',\n",
    "       'Number of Teachers by Classes Taught - Government Aided - Primary Only',\n",
    "       'Number of Teachers by Classes Taught - Government Aided - Primary and Upper Primary',\n",
    "       'Number of Teachers by Classes Taught - Government Aided - Upper Primary Only',\n",
    "       'Number of Teachers by Classes Taught - Government Aided - Upper Primary and Secondary',\n",
    "       'Number of Teachers by Classes Taught - Government Aided - Secondary Only',\n",
    "       'Number of Teachers by Classes Taught - Government Aided - Secondary and Higher Secondary',\n",
    "       'Number of Teachers by Classes Taught - Government Aided - Higher Secondary Only'],var_name='Sub-Category', value_name='Value')\n",
    "df_unpivot_ga_m['Category']='Government Aided by Management and Classes Taught'"
   ]
  },
  {
   "cell_type": "code",
   "execution_count": 45,
   "id": "5d8413e4-7d98-4f96-948b-ffada1f580a8",
   "metadata": {},
   "outputs": [],
   "source": [
    "df_unpivot_all_m = pd.melt(df_all_m, id_vars=['India/State /UT'], value_vars=[\n",
    "       'Number of Teachers by Classes Taught - All Types of Management - Total',\n",
    "       'Number of Teachers by Classes Taught - All Types of Management - Pre-Primary Only',\n",
    "       'Number of Teachers by Classes Taught - All Types of Management - Pre-Primary and Primary',\n",
    "       'Number of Teachers by Classes Taught - All Types of Management - Primary Only',\n",
    "       'Number of Teachers by Classes Taught - All Types of Management - Primary and Upper Primary',\n",
    "       'Number of Teachers by Classes Taught - All Types of Management - Upper Primary Only',\n",
    "       'Number of Teachers by Classes Taught - All Types of Management - Upper Primary and Secondary',\n",
    "       'Number of Teachers by Classes Taught - All Types of Management - Secondary Only',\n",
    "       'Number of Teachers by Classes Taught - All Types of Management - Secondary and Higher Secondary',\n",
    "       'Number of Teachers by Classes Taught - All Types of Management - Higher Secondary Only'],var_name='Sub-Category', value_name='Value')\n",
    "df_unpivot_all_m['Category']='All Types of Management by Management and Classes'"
   ]
  },
  {
   "cell_type": "code",
   "execution_count": 46,
   "id": "447b7890-8ebb-4035-8d86-071af2d3208f",
   "metadata": {},
   "outputs": [],
   "source": [
    "df_unpivot_all_sc = pd.melt(df_all_sc, id_vars=['India/State /UT'], value_vars=[\n",
    "       'Number of Teachers - All Types of Management - Total',\n",
    "       'Number of Teachers - All Types of Management - Primary - (1 to 5)',\n",
    "       'Number of Teachers - All Types of Management - Upper Primary - (1-8)',\n",
    "       'Number of Teachers - All Types of Management - Upper Primary - (6-8)',\n",
    "       'Number of Teachers - All Types of Management - Secondary - (1-10)',\n",
    "       'Number of Teachers - All Types of Management - Secondary - (6-10)',\n",
    "       'Number of Teachers - All Types of Management - Secondary - (9-10)',\n",
    "       'Number of Teachers - All Types of Management - Higher Secondary - (1-12)',\n",
    "       'Number of Teachers - All Types of Management - Higher Secondary - (6-12)',\n",
    "       'Number of Teachers - All Types of Management - Higher Secondary - (9-12)',\n",
    "       'Number of Teachers - All Types of Management - Higher Secondary - (11-12)'],var_name='Sub-Category', value_name='Value')\n",
    "df_unpivot_all_sc['Category']='All Types of Management and School Category'"
   ]
  },
  {
   "cell_type": "code",
   "execution_count": 47,
   "id": "824b0c83-2a07-45a6-a537-128877278823",
   "metadata": {},
   "outputs": [
    {
     "data": {
      "text/html": [
       "<div>\n",
       "<style scoped>\n",
       "    .dataframe tbody tr th:only-of-type {\n",
       "        vertical-align: middle;\n",
       "    }\n",
       "\n",
       "    .dataframe tbody tr th {\n",
       "        vertical-align: top;\n",
       "    }\n",
       "\n",
       "    .dataframe thead th {\n",
       "        text-align: right;\n",
       "    }\n",
       "</style>\n",
       "<table border=\"1\" class=\"dataframe\">\n",
       "  <thead>\n",
       "    <tr style=\"text-align: right;\">\n",
       "      <th></th>\n",
       "      <th>India/State /UT</th>\n",
       "      <th>Sub-Category</th>\n",
       "      <th>Value</th>\n",
       "      <th>Category</th>\n",
       "    </tr>\n",
       "  </thead>\n",
       "  <tbody>\n",
       "    <tr>\n",
       "      <th>0</th>\n",
       "      <td>India</td>\n",
       "      <td>Number of Teachers - All Types of Management -...</td>\n",
       "      <td>9507123</td>\n",
       "      <td>All Types of Management and School Category</td>\n",
       "    </tr>\n",
       "    <tr>\n",
       "      <th>1</th>\n",
       "      <td>Andaman and Nicobar Islands</td>\n",
       "      <td>Number of Teachers - All Types of Management -...</td>\n",
       "      <td>5281</td>\n",
       "      <td>All Types of Management and School Category</td>\n",
       "    </tr>\n",
       "    <tr>\n",
       "      <th>2</th>\n",
       "      <td>Andhra Pradesh</td>\n",
       "      <td>Number of Teachers - All Types of Management -...</td>\n",
       "      <td>320724</td>\n",
       "      <td>All Types of Management and School Category</td>\n",
       "    </tr>\n",
       "    <tr>\n",
       "      <th>3</th>\n",
       "      <td>Arunachal Pradesh</td>\n",
       "      <td>Number of Teachers - All Types of Management -...</td>\n",
       "      <td>23707</td>\n",
       "      <td>All Types of Management and School Category</td>\n",
       "    </tr>\n",
       "    <tr>\n",
       "      <th>4</th>\n",
       "      <td>Assam</td>\n",
       "      <td>Number of Teachers - All Types of Management -...</td>\n",
       "      <td>352944</td>\n",
       "      <td>All Types of Management and School Category</td>\n",
       "    </tr>\n",
       "    <tr>\n",
       "      <th>...</th>\n",
       "      <td>...</td>\n",
       "      <td>...</td>\n",
       "      <td>...</td>\n",
       "      <td>...</td>\n",
       "    </tr>\n",
       "    <tr>\n",
       "      <th>402</th>\n",
       "      <td>Telangana</td>\n",
       "      <td>Number of Teachers - All Types of Management -...</td>\n",
       "      <td>21911</td>\n",
       "      <td>All Types of Management and School Category</td>\n",
       "    </tr>\n",
       "    <tr>\n",
       "      <th>403</th>\n",
       "      <td>Tripura</td>\n",
       "      <td>Number of Teachers - All Types of Management -...</td>\n",
       "      <td>0</td>\n",
       "      <td>All Types of Management and School Category</td>\n",
       "    </tr>\n",
       "    <tr>\n",
       "      <th>404</th>\n",
       "      <td>Uttar Pradesh</td>\n",
       "      <td>Number of Teachers - All Types of Management -...</td>\n",
       "      <td>221</td>\n",
       "      <td>All Types of Management and School Category</td>\n",
       "    </tr>\n",
       "    <tr>\n",
       "      <th>405</th>\n",
       "      <td>Uttarakhand</td>\n",
       "      <td>Number of Teachers - All Types of Management -...</td>\n",
       "      <td>133</td>\n",
       "      <td>All Types of Management and School Category</td>\n",
       "    </tr>\n",
       "    <tr>\n",
       "      <th>406</th>\n",
       "      <td>West Bengal</td>\n",
       "      <td>Number of Teachers - All Types of Management -...</td>\n",
       "      <td>185</td>\n",
       "      <td>All Types of Management and School Category</td>\n",
       "    </tr>\n",
       "  </tbody>\n",
       "</table>\n",
       "<p>407 rows × 4 columns</p>\n",
       "</div>"
      ],
      "text/plain": [
       "                 India/State /UT  \\\n",
       "0                          India   \n",
       "1    Andaman and Nicobar Islands   \n",
       "2                 Andhra Pradesh   \n",
       "3              Arunachal Pradesh   \n",
       "4                          Assam   \n",
       "..                           ...   \n",
       "402                    Telangana   \n",
       "403                      Tripura   \n",
       "404                Uttar Pradesh   \n",
       "405                  Uttarakhand   \n",
       "406                  West Bengal   \n",
       "\n",
       "                                          Sub-Category    Value  \\\n",
       "0    Number of Teachers - All Types of Management -...  9507123   \n",
       "1    Number of Teachers - All Types of Management -...     5281   \n",
       "2    Number of Teachers - All Types of Management -...   320724   \n",
       "3    Number of Teachers - All Types of Management -...    23707   \n",
       "4    Number of Teachers - All Types of Management -...   352944   \n",
       "..                                                 ...      ...   \n",
       "402  Number of Teachers - All Types of Management -...    21911   \n",
       "403  Number of Teachers - All Types of Management -...        0   \n",
       "404  Number of Teachers - All Types of Management -...      221   \n",
       "405  Number of Teachers - All Types of Management -...      133   \n",
       "406  Number of Teachers - All Types of Management -...      185   \n",
       "\n",
       "                                        Category  \n",
       "0    All Types of Management and School Category  \n",
       "1    All Types of Management and School Category  \n",
       "2    All Types of Management and School Category  \n",
       "3    All Types of Management and School Category  \n",
       "4    All Types of Management and School Category  \n",
       "..                                           ...  \n",
       "402  All Types of Management and School Category  \n",
       "403  All Types of Management and School Category  \n",
       "404  All Types of Management and School Category  \n",
       "405  All Types of Management and School Category  \n",
       "406  All Types of Management and School Category  \n",
       "\n",
       "[407 rows x 4 columns]"
      ]
     },
     "execution_count": 47,
     "metadata": {},
     "output_type": "execute_result"
    }
   ],
   "source": [
    "df_all_sc = pd.read_csv(f'nos/same/StateUT-wise Number of Teachers - All Types of Management and School Category during 2021-22.csv')\n",
    "df_all_m = pd.read_csv(f'nos/same/StateUT-wise Number of Teachers - All Types of Management by Management and Classes Taught during 2021-22.csv')\n",
    "df_ga_m = pd.read_csv(f'nos/same/StateUT-wise Number of Teachers - Government Aided by Management and Classes Taught during 2021-22.csv')\n",
    "df_g_m = pd.read_csv(f'nos/same/StateUT-wise Number of Teachers - Government by Management and Classes Taught during 2021-22.csv')\n",
    "df_o_m = pd.read_csv(f'nos/same/StateUT-wise Number of Teachers - Others by Management and Classes Taught during 2021-22.csv')\n",
    "df_o_g = pd.read_csv(f'nos/same/StateUT-wise Number of Teachers - Others by Management, Gender and Classes Taught during 2021-22.csv')\n",
    "df_pu = pd.read_csv(f'nos/same/StateUT-wise Number of Teachers - Private Unaided Recognized by Management and Classes Taught during 2021-22.csv')\n",
    "df_ga = pd.read_csv(f'nos/same/StateUT-wise Number of Teachers in Government Aided Schools by Management and School Category during 2021-22.csv')\n",
    "df_g = pd.read_csv(f'nos/same/StateUT-wise Number of Teachers in Government Schools by Management and School Category during 2021-22.csv')\n",
    "df_pu_sc = pd.read_csv(f'nos/same/StateUT-wise Number of Teachers in Private Unaided Recognized by Management and School Category during 2021-22.csv')"
   ]
  },
  {
   "cell_type": "code",
   "execution_count": 50,
   "id": "0fddde07-3d86-4e7c-ba65-a9b0ae2578ac",
   "metadata": {},
   "outputs": [],
   "source": [
    "df_nos=pd.concat([df_unpivot_all_sc, df_unpivot_all_m,df_unpivot_ga_m,df_unpivot_g_m,df_unpivot_o_m,df_unpivot_o_g,df_unpivot_pu,df_unpivot_ga,df_unpivot_g,df_unpivot_pu_sc], ignore_index = True)"
   ]
  },
  {
   "cell_type": "code",
   "execution_count": 51,
   "id": "fe9ff90f-af51-4159-a9f7-4e75710e26a9",
   "metadata": {},
   "outputs": [],
   "source": [
    "df_nos.to_csv('StateUT-wise Number of Teachers-Categories.csv')"
   ]
  },
  {
   "cell_type": "code",
   "execution_count": 52,
   "id": "47967c66-caec-4f85-8d13-79a0719a0fdd",
   "metadata": {},
   "outputs": [],
   "source": [
    "df_1 = pd.read_csv(f'nos/same/Central University-wise Data of Teaching Staff on Ad-hoc, Guest, Contract, Re-employed Faculty, Sanctioned and Vacant Faculty Posts in 46 Central Universities as on 01.10.2021.csv')\n",
    "df_2 = pd.read_csv(f'nos/same/Central University-wise Total Number of Teachers Appointed from 01-04-2017 to 31-12-2021.csv')\n",
    "df_3 = pd.read_csv(f'nos/same/StateUTs-wise Vacant Teaching and Non-teaching Staff in Central Universities (in reply to Unstarred Question on 9 February, 2022).csv')"
   ]
  },
  {
   "cell_type": "code",
   "execution_count": 53,
   "id": "3dc474ec-1e52-4f65-9411-5c793014c0d7",
   "metadata": {},
   "outputs": [
    {
     "data": {
      "text/plain": [
       "Index(['Sl. No.', 'Name of the State', 'Name of the University', 'Adhoc',\n",
       "       'Guest Faculty', 'Contract basis', 'Re-employed', 'Sanctioned Posts',\n",
       "       'Vacant Posts'],\n",
       "      dtype='object')"
      ]
     },
     "execution_count": 53,
     "metadata": {},
     "output_type": "execute_result"
    }
   ],
   "source": [
    "df_1.columns"
   ]
  },
  {
   "cell_type": "code",
   "execution_count": 54,
   "id": "fd885d98-61c8-48fa-bffe-385bf15a558a",
   "metadata": {},
   "outputs": [
    {
     "data": {
      "text/plain": [
       "Index(['Sl. No.', 'Name of Central University',\n",
       "       'Total Number of Teachers appointed from 01.04.2017 to 31.12.2021'],\n",
       "      dtype='object')"
      ]
     },
     "execution_count": 54,
     "metadata": {},
     "output_type": "execute_result"
    }
   ],
   "source": [
    "df_2.columns"
   ]
  },
  {
   "cell_type": "code",
   "execution_count": 55,
   "id": "15cf53be-5570-433b-b2db-1235e9918b4d",
   "metadata": {},
   "outputs": [
    {
     "data": {
      "text/plain": [
       "Index(['Sl. No.', 'Name of the State', 'Name of the University',\n",
       "       'No. of Vacancies - (As on 01.10.2021) - Teaching Posts',\n",
       "       'No. of Vacancies - (As on 01.10.2021) - Non-Teaching Posts',\n",
       "       'No. of filled up posts during 2021-22 - (From 01.04.2021 to 30.09.2021) - Teaching Posts',\n",
       "       'No. of filled up posts during 2021-22 - (From 01.04.2021 to 30.09.2021) - Non-Teaching Posts'],\n",
       "      dtype='object')"
      ]
     },
     "execution_count": 55,
     "metadata": {},
     "output_type": "execute_result"
    }
   ],
   "source": [
    "df_3.columns"
   ]
  },
  {
   "cell_type": "code",
   "execution_count": 59,
   "id": "32885ae6-3558-419c-8a8e-fa90649d541b",
   "metadata": {},
   "outputs": [
    {
     "ename": "ValueError",
     "evalue": "Can only compare identically-labeled Series objects",
     "output_type": "error",
     "traceback": [
      "\u001b[1;31m---------------------------------------------------------------------------\u001b[0m",
      "\u001b[1;31mValueError\u001b[0m                                Traceback (most recent call last)",
      "Cell \u001b[1;32mIn[59], line 1\u001b[0m\n\u001b[1;32m----> 1\u001b[0m df_1[\u001b[38;5;124m'\u001b[39m\u001b[38;5;124mName of the University\u001b[39m\u001b[38;5;124m'\u001b[39m]\u001b[38;5;241m==\u001b[39mdf_2[\u001b[38;5;124m'\u001b[39m\u001b[38;5;124mName of Central University\u001b[39m\u001b[38;5;124m'\u001b[39m]\n",
      "File \u001b[1;32mC:\\ProgramData\\anaconda3\\Lib\\site-packages\\pandas\\core\\ops\\common.py:76\u001b[0m, in \u001b[0;36m_unpack_zerodim_and_defer.<locals>.new_method\u001b[1;34m(self, other)\u001b[0m\n\u001b[0;32m     72\u001b[0m             \u001b[38;5;28;01mreturn\u001b[39;00m \u001b[38;5;28mNotImplemented\u001b[39m\n\u001b[0;32m     74\u001b[0m other \u001b[38;5;241m=\u001b[39m item_from_zerodim(other)\n\u001b[1;32m---> 76\u001b[0m \u001b[38;5;28;01mreturn\u001b[39;00m method(\u001b[38;5;28mself\u001b[39m, other)\n",
      "File \u001b[1;32mC:\\ProgramData\\anaconda3\\Lib\\site-packages\\pandas\\core\\arraylike.py:40\u001b[0m, in \u001b[0;36mOpsMixin.__eq__\u001b[1;34m(self, other)\u001b[0m\n\u001b[0;32m     38\u001b[0m \u001b[38;5;129m@unpack_zerodim_and_defer\u001b[39m(\u001b[38;5;124m\"\u001b[39m\u001b[38;5;124m__eq__\u001b[39m\u001b[38;5;124m\"\u001b[39m)\n\u001b[0;32m     39\u001b[0m \u001b[38;5;28;01mdef\u001b[39;00m \u001b[38;5;21m__eq__\u001b[39m(\u001b[38;5;28mself\u001b[39m, other):\n\u001b[1;32m---> 40\u001b[0m     \u001b[38;5;28;01mreturn\u001b[39;00m \u001b[38;5;28mself\u001b[39m\u001b[38;5;241m.\u001b[39m_cmp_method(other, operator\u001b[38;5;241m.\u001b[39meq)\n",
      "File \u001b[1;32mC:\\ProgramData\\anaconda3\\Lib\\site-packages\\pandas\\core\\series.py:6114\u001b[0m, in \u001b[0;36mSeries._cmp_method\u001b[1;34m(self, other, op)\u001b[0m\n\u001b[0;32m   6111\u001b[0m res_name \u001b[38;5;241m=\u001b[39m ops\u001b[38;5;241m.\u001b[39mget_op_result_name(\u001b[38;5;28mself\u001b[39m, other)\n\u001b[0;32m   6113\u001b[0m \u001b[38;5;28;01mif\u001b[39;00m \u001b[38;5;28misinstance\u001b[39m(other, Series) \u001b[38;5;129;01mand\u001b[39;00m \u001b[38;5;129;01mnot\u001b[39;00m \u001b[38;5;28mself\u001b[39m\u001b[38;5;241m.\u001b[39m_indexed_same(other):\n\u001b[1;32m-> 6114\u001b[0m     \u001b[38;5;28;01mraise\u001b[39;00m \u001b[38;5;167;01mValueError\u001b[39;00m(\u001b[38;5;124m\"\u001b[39m\u001b[38;5;124mCan only compare identically-labeled Series objects\u001b[39m\u001b[38;5;124m\"\u001b[39m)\n\u001b[0;32m   6116\u001b[0m lvalues \u001b[38;5;241m=\u001b[39m \u001b[38;5;28mself\u001b[39m\u001b[38;5;241m.\u001b[39m_values\n\u001b[0;32m   6117\u001b[0m rvalues \u001b[38;5;241m=\u001b[39m extract_array(other, extract_numpy\u001b[38;5;241m=\u001b[39m\u001b[38;5;28;01mTrue\u001b[39;00m, extract_range\u001b[38;5;241m=\u001b[39m\u001b[38;5;28;01mTrue\u001b[39;00m)\n",
      "\u001b[1;31mValueError\u001b[0m: Can only compare identically-labeled Series objects"
     ]
    }
   ],
   "source": [
    "df_1['Name of the University']==df_2['Name of Central University']"
   ]
  },
  {
   "cell_type": "code",
   "execution_count": null,
   "id": "a7156a08-8342-4858-b87f-221b4e7405b1",
   "metadata": {},
   "outputs": [],
   "source": []
  }
 ],
 "metadata": {
  "kernelspec": {
   "display_name": "Python 3 (ipykernel)",
   "language": "python",
   "name": "python3"
  },
  "language_info": {
   "codemirror_mode": {
    "name": "ipython",
    "version": 3
   },
   "file_extension": ".py",
   "mimetype": "text/x-python",
   "name": "python",
   "nbconvert_exporter": "python",
   "pygments_lexer": "ipython3",
   "version": "3.12.4"
  }
 },
 "nbformat": 4,
 "nbformat_minor": 5
}
